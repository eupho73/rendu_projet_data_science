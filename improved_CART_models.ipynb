{
 "cells": [
  {
   "cell_type": "code",
   "execution_count": 1,
   "metadata": {},
   "outputs": [],
   "source": [
    "SEED = 42"
   ]
  },
  {
   "cell_type": "code",
   "execution_count": 45,
   "metadata": {},
   "outputs": [],
   "source": [
    "import pandas as pd\n",
    "import numpy as np\n",
    "import matplotlib.pyplot as plt\n",
    "import seaborn as sns\n",
    "\n",
    "from sklearn.ensemble import RandomForestClassifier\n",
    "from sklearn.metrics import classification_report, confusion_matrix\n",
    "from sklearn.model_selection import RandomizedSearchCV, GridSearchCV\n",
    "from sklearn.utils import shuffle"
   ]
  },
  {
   "cell_type": "code",
   "execution_count": 98,
   "metadata": {},
   "outputs": [
    {
     "data": {
      "text/html": [
       "<div>\n",
       "<style scoped>\n",
       "    .dataframe tbody tr th:only-of-type {\n",
       "        vertical-align: middle;\n",
       "    }\n",
       "\n",
       "    .dataframe tbody tr th {\n",
       "        vertical-align: top;\n",
       "    }\n",
       "\n",
       "    .dataframe thead th {\n",
       "        text-align: right;\n",
       "    }\n",
       "</style>\n",
       "<table border=\"1\" class=\"dataframe\">\n",
       "  <thead>\n",
       "    <tr style=\"text-align: right;\">\n",
       "      <th></th>\n",
       "      <th>Unnamed: 0</th>\n",
       "      <th>id</th>\n",
       "      <th>gender</th>\n",
       "      <th>carType</th>\n",
       "      <th>carCategory</th>\n",
       "      <th>occupation</th>\n",
       "      <th>age</th>\n",
       "      <th>carGroup</th>\n",
       "      <th>bonus</th>\n",
       "      <th>carValue</th>\n",
       "      <th>...</th>\n",
       "      <th>claimValue</th>\n",
       "      <th>catAge</th>\n",
       "      <th>catClaims</th>\n",
       "      <th>catDensity</th>\n",
       "      <th>catClaimNumber</th>\n",
       "      <th>catExposure</th>\n",
       "      <th>catCarValue</th>\n",
       "      <th>ClaimValueExp</th>\n",
       "      <th>ClaimNumberExp</th>\n",
       "      <th>ClaimNumberExpArrondie</th>\n",
       "    </tr>\n",
       "  </thead>\n",
       "  <tbody>\n",
       "    <tr>\n",
       "      <th>0</th>\n",
       "      <td>1</td>\n",
       "      <td>1</td>\n",
       "      <td>Female</td>\n",
       "      <td>A</td>\n",
       "      <td>Small</td>\n",
       "      <td>Unemployed</td>\n",
       "      <td>20</td>\n",
       "      <td>10</td>\n",
       "      <td>-10</td>\n",
       "      <td>24355</td>\n",
       "      <td>...</td>\n",
       "      <td>0.0</td>\n",
       "      <td>u25</td>\n",
       "      <td>u500</td>\n",
       "      <td>u175</td>\n",
       "      <td>zero</td>\n",
       "      <td>91-364</td>\n",
       "      <td>0-32000</td>\n",
       "      <td>0.0</td>\n",
       "      <td>0.0</td>\n",
       "      <td>0</td>\n",
       "    </tr>\n",
       "    <tr>\n",
       "      <th>1</th>\n",
       "      <td>2</td>\n",
       "      <td>2</td>\n",
       "      <td>Male</td>\n",
       "      <td>E</td>\n",
       "      <td>Small</td>\n",
       "      <td>Employed</td>\n",
       "      <td>35</td>\n",
       "      <td>12</td>\n",
       "      <td>20</td>\n",
       "      <td>6410</td>\n",
       "      <td>...</td>\n",
       "      <td>0.0</td>\n",
       "      <td>u50</td>\n",
       "      <td>u500</td>\n",
       "      <td>u75</td>\n",
       "      <td>zero</td>\n",
       "      <td>365</td>\n",
       "      <td>0-32000</td>\n",
       "      <td>0.0</td>\n",
       "      <td>0.0</td>\n",
       "      <td>0</td>\n",
       "    </tr>\n",
       "    <tr>\n",
       "      <th>2</th>\n",
       "      <td>3</td>\n",
       "      <td>3</td>\n",
       "      <td>Female</td>\n",
       "      <td>D</td>\n",
       "      <td>Medium</td>\n",
       "      <td>Employed</td>\n",
       "      <td>31</td>\n",
       "      <td>8</td>\n",
       "      <td>130</td>\n",
       "      <td>18545</td>\n",
       "      <td>...</td>\n",
       "      <td>0.0</td>\n",
       "      <td>u32</td>\n",
       "      <td>u500</td>\n",
       "      <td>u75</td>\n",
       "      <td>zero</td>\n",
       "      <td>365</td>\n",
       "      <td>0-32000</td>\n",
       "      <td>0.0</td>\n",
       "      <td>0.0</td>\n",
       "      <td>0</td>\n",
       "    </tr>\n",
       "    <tr>\n",
       "      <th>3</th>\n",
       "      <td>4</td>\n",
       "      <td>4</td>\n",
       "      <td>Male</td>\n",
       "      <td>D</td>\n",
       "      <td>Large</td>\n",
       "      <td>Employed</td>\n",
       "      <td>29</td>\n",
       "      <td>13</td>\n",
       "      <td>-50</td>\n",
       "      <td>18015</td>\n",
       "      <td>...</td>\n",
       "      <td>0.0</td>\n",
       "      <td>u32</td>\n",
       "      <td>u500</td>\n",
       "      <td>p175</td>\n",
       "      <td>zero</td>\n",
       "      <td>91-364</td>\n",
       "      <td>0-32000</td>\n",
       "      <td>0.0</td>\n",
       "      <td>0.0</td>\n",
       "      <td>0</td>\n",
       "    </tr>\n",
       "    <tr>\n",
       "      <th>4</th>\n",
       "      <td>5</td>\n",
       "      <td>5</td>\n",
       "      <td>Male</td>\n",
       "      <td>B</td>\n",
       "      <td>Medium</td>\n",
       "      <td>Self-employed</td>\n",
       "      <td>33</td>\n",
       "      <td>11</td>\n",
       "      <td>150</td>\n",
       "      <td>12325</td>\n",
       "      <td>...</td>\n",
       "      <td>0.0</td>\n",
       "      <td>u50</td>\n",
       "      <td>u500</td>\n",
       "      <td>u75</td>\n",
       "      <td>zero</td>\n",
       "      <td>91-364</td>\n",
       "      <td>0-32000</td>\n",
       "      <td>0.0</td>\n",
       "      <td>0.0</td>\n",
       "      <td>0</td>\n",
       "    </tr>\n",
       "  </tbody>\n",
       "</table>\n",
       "<p>5 rows × 26 columns</p>\n",
       "</div>"
      ],
      "text/plain": [
       "   Unnamed: 0  id  gender carType carCategory     occupation  age  carGroup  \\\n",
       "0           1   1  Female       A       Small     Unemployed   20        10   \n",
       "1           2   2    Male       E       Small       Employed   35        12   \n",
       "2           3   3  Female       D      Medium       Employed   31         8   \n",
       "3           4   4    Male       D       Large       Employed   29        13   \n",
       "4           5   5    Male       B      Medium  Self-employed   33        11   \n",
       "\n",
       "   bonus  carValue  ...  claimValue catAge catClaims  catDensity  \\\n",
       "0    -10     24355  ...         0.0    u25      u500        u175   \n",
       "1     20      6410  ...         0.0    u50      u500         u75   \n",
       "2    130     18545  ...         0.0    u32      u500         u75   \n",
       "3    -50     18015  ...         0.0    u32      u500        p175   \n",
       "4    150     12325  ...         0.0    u50      u500         u75   \n",
       "\n",
       "   catClaimNumber  catExposure  catCarValue ClaimValueExp ClaimNumberExp  \\\n",
       "0            zero       91-364      0-32000           0.0            0.0   \n",
       "1            zero          365      0-32000           0.0            0.0   \n",
       "2            zero          365      0-32000           0.0            0.0   \n",
       "3            zero       91-364      0-32000           0.0            0.0   \n",
       "4            zero       91-364      0-32000           0.0            0.0   \n",
       "\n",
       "  ClaimNumberExpArrondie  \n",
       "0                      0  \n",
       "1                      0  \n",
       "2                      0  \n",
       "3                      0  \n",
       "4                      0  \n",
       "\n",
       "[5 rows x 26 columns]"
      ]
     },
     "execution_count": 98,
     "metadata": {},
     "output_type": "execute_result"
    }
   ],
   "source": [
    "df_train = pd.read_csv(\"dataTrain_13_EXP_av37.csv\")\n",
    "df_test = pd.read_csv(\"test.csv\")\n",
    "df_train.head()"
   ]
  },
  {
   "attachments": {},
   "cell_type": "markdown",
   "metadata": {},
   "source": [
    "(3 - a - b)PP = PP0"
   ]
  },
  {
   "cell_type": "code",
   "execution_count": 85,
   "metadata": {},
   "outputs": [],
   "source": [
    "mask_un = df_train.catClaimNumber == \"un\"\n",
    "mask_p2 = df_train.catClaimNumber == \"p2\"\n",
    "\n",
    "pp1 = df_train[mask_un].claimValue.mean()\n",
    "pp2 = df_train[mask_p2].claimValue.mean()"
   ]
  },
  {
   "cell_type": "code",
   "execution_count": 94,
   "metadata": {},
   "outputs": [],
   "source": [
    "pp1 = df_train[mask_un].claimValue.mean()"
   ]
  },
  {
   "cell_type": "code",
   "execution_count": 95,
   "metadata": {},
   "outputs": [
    {
     "data": {
      "text/plain": [
       "1747.1658587632858"
      ]
     },
     "execution_count": 95,
     "metadata": {},
     "output_type": "execute_result"
    }
   ],
   "source": [
    "pp1"
   ]
  },
  {
   "cell_type": "code",
   "execution_count": 96,
   "metadata": {},
   "outputs": [
    {
     "data": {
      "text/plain": [
       "3496.7989595975987"
      ]
     },
     "execution_count": 96,
     "metadata": {},
     "output_type": "execute_result"
    }
   ],
   "source": [
    "pp2 = df_train[mask_p2].claimValue.mean()\n",
    "pp2"
   ]
  },
  {
   "cell_type": "code",
   "execution_count": 97,
   "metadata": {},
   "outputs": [
    {
     "data": {
      "text/plain": [
       "315.3684011625338"
      ]
     },
     "execution_count": 97,
     "metadata": {},
     "output_type": "execute_result"
    }
   ],
   "source": [
    "pp = df_train.claimValue.mean()\n",
    "pp"
   ]
  },
  {
   "attachments": {},
   "cell_type": "markdown",
   "metadata": {},
   "source": [
    "## Feature engineering"
   ]
  },
  {
   "attachments": {},
   "cell_type": "markdown",
   "metadata": {},
   "source": [
    "Nous allons réduire le nombre de variables, notamment subregions en utilisant les test de contingence du $\\chi^2$ réalisés sour R afin d'isoler les modalités significatives"
   ]
  },
  {
   "cell_type": "code",
   "execution_count": 24,
   "metadata": {},
   "outputs": [],
   "source": [
    "significative_subRegions_claimNumber = {\"N8\", \"M4\", \"Q13\", \"Q24\", \"Q26\", \"R1\", \"R11\", \"R12\", \"R15\", \"R16\", \"R5\", \"R8\", \"L72\"}\n",
    "significative_carType_claimNumber = {\"D\", \"E\"}\n",
    "\n",
    "significative_subRegion_claimValue = {\"L68\", \"L79\", \"L81\", \"L86\", \"O28\", \"P26\", \"P7\", \"S19\", \"S9\"}\n",
    "significative_carType_claimValue = {\"E\"}\n",
    "significative_occupation_claimValue = {\"HouseWife\", \"Unemployed\"}"
   ]
  },
  {
   "cell_type": "code",
   "execution_count": 25,
   "metadata": {},
   "outputs": [
    {
     "data": {
      "text/plain": [
       "('N8', 'other')"
      ]
     },
     "execution_count": 25,
     "metadata": {},
     "output_type": "execute_result"
    }
   ],
   "source": [
    "def getSignificativeFeatures(row, significative_features, default_other=\"other\"):\n",
    "    \"\"\"\n",
    "    check if row is in significative_features (significative subRegion) and assigns default_other if not\n",
    "    the goal here is to reduce the number of features\n",
    "    \"\"\"\n",
    "    if row in significative_features:\n",
    "        return row\n",
    "    else: return default_other\n",
    "\n",
    "getSignificativeFeatures(\"N8\", significative_features=significative_subRegions_claimNumber), getSignificativeFeatures(\"A\", significative_features=significative_carType_claimNumber)"
   ]
  },
  {
   "cell_type": "code",
   "execution_count": 99,
   "metadata": {},
   "outputs": [],
   "source": [
    "df_train[\"significativeCarType_claimNumber\"] = df_train.carType.apply(\n",
    "    lambda row: getSignificativeFeatures(\n",
    "        row, \n",
    "        significative_features=significative_carType_claimNumber\n",
    "    )\n",
    ")\n",
    "df_train[\"significativeSubRegion_claimNumber\"] = df_train.subRegion.apply(\n",
    "    lambda row: getSignificativeFeatures(\n",
    "        row,\n",
    "        significative_features=significative_subRegions_claimNumber\n",
    "    )\n",
    ")\n",
    "df_train[\"significativeSubRegion_claimValue\"] = df_train.subRegion.apply(\n",
    "    lambda row: getSignificativeFeatures(\n",
    "        row,\n",
    "        significative_features=significative_subRegion_claimValue\n",
    "    )\n",
    ")\n",
    "df_train[\"significativeCarType_claimValue\"] = df_train.carType.apply(\n",
    "    lambda row: getSignificativeFeatures(\n",
    "        row,\n",
    "        significative_features=significative_carType_claimValue\n",
    "    )\n",
    ")\n",
    "df_train[\"significativeOccupation_claimValue\"] = df_train.occupation.apply(\n",
    "    lambda row: getSignificativeFeatures(\n",
    "        row,\n",
    "        significative_features=significative_occupation_claimValue\n",
    "    )\n",
    ")"
   ]
  },
  {
   "cell_type": "code",
   "execution_count": 28,
   "metadata": {},
   "outputs": [
    {
     "data": {
      "text/plain": [
       "Index(['Unnamed: 0', 'id', 'gender', 'carType', 'carCategory', 'occupation',\n",
       "       'age', 'carGroup', 'bonus', 'carValue', 'material', 'subRegion',\n",
       "       'region', 'cityDensity', 'exposure', 'claimNumber', 'claimValue',\n",
       "       'catAge', 'catClaims', 'catDensity', 'catClaimNumber', 'catExposure',\n",
       "       'catCarValue', 'ClaimValueExp', 'ClaimNumberExp',\n",
       "       'ClaimNumberExpArrondie', 'significativeCarType_claimNumber',\n",
       "       'significativeSubRegion_claimNumber',\n",
       "       'significativeSubRegion_claimValue', 'significativeCarType_claimValue',\n",
       "       'significativeOccupation_claimValue'],\n",
       "      dtype='object')"
      ]
     },
     "execution_count": 28,
     "metadata": {},
     "output_type": "execute_result"
    }
   ],
   "source": [
    "df_train.columns"
   ]
  },
  {
   "attachments": {},
   "cell_type": "markdown",
   "metadata": {},
   "source": [
    "Une dernière rapide étude de correlation"
   ]
  },
  {
   "cell_type": "code",
   "execution_count": 18,
   "metadata": {},
   "outputs": [
    {
     "name": "stdout",
     "output_type": "stream",
     "text": [
      "                   id       age  carGroup     bonus  material  cityDensity  \\\n",
      "id           1.000000  0.000697 -0.002313  0.004905 -0.001165     0.001113   \n",
      "age          0.000697  1.000000  0.067530 -0.162014  0.157458    -0.002800   \n",
      "carGroup    -0.002313  0.067530  1.000000 -0.022583  0.021568     0.003851   \n",
      "bonus        0.004905 -0.162014 -0.022583  1.000000 -0.040544    -0.001577   \n",
      "material    -0.001165  0.157458  0.021568 -0.040544  1.000000    -0.000479   \n",
      "cityDensity  0.001113 -0.002800  0.003851 -0.001577 -0.000479     1.000000   \n",
      "claimValue   0.001563 -0.068588  0.013673  0.063285 -0.038726     0.048194   \n",
      "\n",
      "             claimValue  \n",
      "id             0.001563  \n",
      "age           -0.068588  \n",
      "carGroup       0.013673  \n",
      "bonus          0.063285  \n",
      "material      -0.038726  \n",
      "cityDensity    0.048194  \n",
      "claimValue     1.000000  \n"
     ]
    }
   ],
   "source": [
    "cor = df_train.corr(method=\"pearson\")\n",
    "print(cor)"
   ]
  },
  {
   "cell_type": "code",
   "execution_count": 19,
   "metadata": {},
   "outputs": [
    {
     "name": "stderr",
     "output_type": "stream",
     "text": [
      "C:\\Users\\Lenovo\\AppData\\Local\\Temp/ipykernel_19192/3785685368.py:3: DeprecationWarning: `np.bool` is a deprecated alias for the builtin `bool`. To silence this warning, use `bool` by itself. Doing this will not modify any behavior and is safe. If you specifically wanted the numpy scalar type, use `np.bool_` here.\n",
      "Deprecated in NumPy 1.20; for more details and guidance: https://numpy.org/devdocs/release/1.20.0-notes.html#deprecations\n",
      "  sns.heatmap(cor, mask=np.zeros_like(cor, dtype=np.bool), cmap=sns.diverging_palette(220, 10, as_cmap=True),\n"
     ]
    },
    {
     "data": {
      "image/png": "[encoded data removed]",
      "text/plain": [
       "<Figure size 576x432 with 2 Axes>"
      ]
     },
     "metadata": {
      "needs_background": "light"
     },
     "output_type": "display_data"
    }
   ],
   "source": [
    "fig, ax =plt.subplots(figsize=(8, 6))\n",
    "plt.title(\"Correlation Plot\")\n",
    "sns.heatmap(cor, mask=np.zeros_like(cor, dtype=np.bool), cmap=sns.diverging_palette(220, 10, as_cmap=True),\n",
    "            square=True, ax=ax)\n",
    "plt.show()"
   ]
  },
  {
   "attachments": {},
   "cell_type": "markdown",
   "metadata": {},
   "source": [
    "Now we can focus narrow down on specific columns to reduce dimensonnality"
   ]
  },
  {
   "cell_type": "code",
   "execution_count": 29,
   "metadata": {},
   "outputs": [],
   "source": [
    "cols_claimNumber = [\"id\", \"gender\", \"carCategory\", \"occupation\", \"age\", \"carGroup\", \"bonus\", \"material\", \"cityDensity\", \"significativeCarType_claimNumber\", \"significativeSubRegion_claimNumber\", \"catClaimNumber\"]\n",
    "cols_claimValue = [\"id\", \"gender\", \"carCategory\", \"significativeOccupation_claimValue\", \"age\", \"carGroup\", \"bonus\", \"material\", \"cityDensity\", \"significativeCarType_claimValue\", \"significativeSubRegion_claimValue\", \"claimValue\"]"
   ]
  },
  {
   "cell_type": "code",
   "execution_count": 100,
   "metadata": {},
   "outputs": [],
   "source": [
    "df_train = shuffle(df_train, random_state=SEED)\n",
    "df_train_claimNumber = df_train[cols_claimNumber]\n",
    "df_train_claimValue = df_train[cols_claimValue]\n",
    "# variables explicatives pour prédire claimValue (régression) et catClaimNumber (classification)\n",
    "X_train_claimValue = df_train_claimValue[:50000].drop(columns=['id', 'claimValue'])\n",
    "X_train_claimNumber = df_train_claimNumber[:50000].drop(columns=['id', 'catClaimNumber'])\n",
    "X_train_ids = df_train[:50000]['id']\n",
    "# Ground truth\n",
    "y_train_claimNumber = df_train_claimNumber[:50000]['catClaimNumber']\n",
    "y_train_claimValue = df_train_claimValue[:50000]['claimValue']\n",
    "\n",
    "# Validation set \n",
    "X_val_claimValue = df_train_claimValue[50000:].drop(columns=['id', 'claimValue'])\n",
    "X_val_claimNumber = df_train_claimNumber[50000:].drop(columns=['id', 'catClaimNumber'])\n",
    "X_val_ids = df_train[50000:]['id']\n",
    "\n",
    "y_val_claimNumber = df_train_claimNumber[50000:]['catClaimNumber']\n",
    "y_val_claimValue = df_train_claimValue[50000:]['claimValue']"
   ]
  },
  {
   "cell_type": "code",
   "execution_count": 40,
   "metadata": {},
   "outputs": [
    {
     "data": {
      "text/html": [
       "<div>\n",
       "<style scoped>\n",
       "    .dataframe tbody tr th:only-of-type {\n",
       "        vertical-align: middle;\n",
       "    }\n",
       "\n",
       "    .dataframe tbody tr th {\n",
       "        vertical-align: top;\n",
       "    }\n",
       "\n",
       "    .dataframe thead th {\n",
       "        text-align: right;\n",
       "    }\n",
       "</style>\n",
       "<table border=\"1\" class=\"dataframe\">\n",
       "  <thead>\n",
       "    <tr style=\"text-align: right;\">\n",
       "      <th></th>\n",
       "      <th>gender</th>\n",
       "      <th>carCategory</th>\n",
       "      <th>occupation</th>\n",
       "      <th>age</th>\n",
       "      <th>carGroup</th>\n",
       "      <th>bonus</th>\n",
       "      <th>material</th>\n",
       "      <th>cityDensity</th>\n",
       "      <th>significativeCarType_claimNumber</th>\n",
       "      <th>significativeSubRegion_claimNumber</th>\n",
       "    </tr>\n",
       "  </thead>\n",
       "  <tbody>\n",
       "    <tr>\n",
       "      <th>12628</th>\n",
       "      <td>Female</td>\n",
       "      <td>Medium</td>\n",
       "      <td>Self-employed</td>\n",
       "      <td>22</td>\n",
       "      <td>3</td>\n",
       "      <td>-20</td>\n",
       "      <td>1</td>\n",
       "      <td>190.05160</td>\n",
       "      <td>other</td>\n",
       "      <td>M4</td>\n",
       "    </tr>\n",
       "    <tr>\n",
       "      <th>37730</th>\n",
       "      <td>Male</td>\n",
       "      <td>Large</td>\n",
       "      <td>Unemployed</td>\n",
       "      <td>63</td>\n",
       "      <td>5</td>\n",
       "      <td>-30</td>\n",
       "      <td>1</td>\n",
       "      <td>98.10373</td>\n",
       "      <td>other</td>\n",
       "      <td>other</td>\n",
       "    </tr>\n",
       "    <tr>\n",
       "      <th>39991</th>\n",
       "      <td>Male</td>\n",
       "      <td>Medium</td>\n",
       "      <td>Unemployed</td>\n",
       "      <td>37</td>\n",
       "      <td>13</td>\n",
       "      <td>60</td>\n",
       "      <td>0</td>\n",
       "      <td>24.11879</td>\n",
       "      <td>other</td>\n",
       "      <td>other</td>\n",
       "    </tr>\n",
       "    <tr>\n",
       "      <th>8525</th>\n",
       "      <td>Male</td>\n",
       "      <td>Medium</td>\n",
       "      <td>Unemployed</td>\n",
       "      <td>41</td>\n",
       "      <td>13</td>\n",
       "      <td>-40</td>\n",
       "      <td>1</td>\n",
       "      <td>125.13200</td>\n",
       "      <td>other</td>\n",
       "      <td>other</td>\n",
       "    </tr>\n",
       "    <tr>\n",
       "      <th>8279</th>\n",
       "      <td>Female</td>\n",
       "      <td>Large</td>\n",
       "      <td>Unemployed</td>\n",
       "      <td>22</td>\n",
       "      <td>9</td>\n",
       "      <td>60</td>\n",
       "      <td>1</td>\n",
       "      <td>58.59040</td>\n",
       "      <td>E</td>\n",
       "      <td>other</td>\n",
       "    </tr>\n",
       "  </tbody>\n",
       "</table>\n",
       "</div>"
      ],
      "text/plain": [
       "       gender carCategory     occupation  age  carGroup  bonus  material  \\\n",
       "12628  Female      Medium  Self-employed   22         3    -20         1   \n",
       "37730    Male       Large     Unemployed   63         5    -30         1   \n",
       "39991    Male      Medium     Unemployed   37        13     60         0   \n",
       "8525     Male      Medium     Unemployed   41        13    -40         1   \n",
       "8279   Female       Large     Unemployed   22         9     60         1   \n",
       "\n",
       "       cityDensity significativeCarType_claimNumber  \\\n",
       "12628    190.05160                            other   \n",
       "37730     98.10373                            other   \n",
       "39991     24.11879                            other   \n",
       "8525     125.13200                            other   \n",
       "8279      58.59040                                E   \n",
       "\n",
       "      significativeSubRegion_claimNumber  \n",
       "12628                                 M4  \n",
       "37730                              other  \n",
       "39991                              other  \n",
       "8525                               other  \n",
       "8279                               other  "
      ]
     },
     "execution_count": 40,
     "metadata": {},
     "output_type": "execute_result"
    }
   ],
   "source": [
    "X_train_claimNumber.head()"
   ]
  },
  {
   "attachments": {},
   "cell_type": "markdown",
   "metadata": {},
   "source": [
    "One hot encoding"
   ]
  },
  {
   "cell_type": "code",
   "execution_count": 101,
   "metadata": {},
   "outputs": [],
   "source": [
    "X_train_claimNumber, X_val_claimNumber = pd.get_dummies(X_train_claimNumber), pd.get_dummies(X_val_claimNumber)\n",
    "X_train_claimValue, X_val_claimValue = pd.get_dummies(X_train_claimValue), pd.get_dummies(X_val_claimValue)\n",
    "\n",
    "# y_train_claimNumber, y_val_claimNumber = pd.get_dummies(y_train_claimNumber), pd.get_dummies(y_val_claimNumber)"
   ]
  },
  {
   "cell_type": "code",
   "execution_count": 42,
   "metadata": {},
   "outputs": [
    {
     "data": {
      "text/plain": [
       "((50000, 32), (10000, 32))"
      ]
     },
     "execution_count": 42,
     "metadata": {},
     "output_type": "execute_result"
    }
   ],
   "source": [
    "X_train_claimNumber.shape, X_val_claimNumber.shape"
   ]
  },
  {
   "attachments": {},
   "cell_type": "markdown",
   "metadata": {},
   "source": [
    "On a largement réduit la dimensionalité en passant de plus de 500 features à seulement 32 !  "
   ]
  },
  {
   "cell_type": "markdown",
   "metadata": {},
   "source": [
    "## Models"
   ]
  },
  {
   "attachments": {},
   "cell_type": "markdown",
   "metadata": {},
   "source": [
    "### Random Forest Classifier"
   ]
  },
  {
   "cell_type": "code",
   "execution_count": 46,
   "metadata": {},
   "outputs": [],
   "source": [
    "rfc = RandomForestClassifier(random_state=SEED)\n",
    "\n",
    "param_grid = {\n",
    "    \"n_estimators\": [250, 500, 750, 1000],\n",
    "    'max_features': ['auto', 'sqrt', 'log2'],\n",
    "    'max_depth': [3, 4, 5, 6, 7],\n",
    "    'criterion': ['gini', 'entropy']\n",
    "}"
   ]
  },
  {
   "cell_type": "code",
   "execution_count": 47,
   "metadata": {},
   "outputs": [
    {
     "name": "stdout",
     "output_type": "stream",
     "text": [
      "Fitting 3 folds for each of 120 candidates, totalling 360 fits\n",
      "[CV] END criterion=gini, max_depth=3, max_features=auto, n_estimators=250; total time=   6.5s\n",
      "[CV] END criterion=gini, max_depth=3, max_features=auto, n_estimators=250; total time=   5.4s\n",
      "[CV] END criterion=gini, max_depth=3, max_features=auto, n_estimators=250; total time=   5.4s\n",
      "[CV] END criterion=gini, max_depth=3, max_features=auto, n_estimators=500; total time=  13.3s\n",
      "[CV] END criterion=gini, max_depth=3, max_features=auto, n_estimators=500; total time=  12.5s\n",
      "[CV] END criterion=gini, max_depth=3, max_features=auto, n_estimators=500; total time=  10.6s\n",
      "[CV] END criterion=gini, max_depth=3, max_features=auto, n_estimators=750; total time=  16.0s\n",
      "[CV] END criterion=gini, max_depth=3, max_features=auto, n_estimators=750; total time=  16.0s\n",
      "[CV] END criterion=gini, max_depth=3, max_features=auto, n_estimators=750; total time=  16.9s\n",
      "[CV] END criterion=gini, max_depth=3, max_features=auto, n_estimators=1000; total time=  21.4s\n",
      "[CV] END criterion=gini, max_depth=3, max_features=auto, n_estimators=1000; total time=  21.3s\n",
      "[CV] END criterion=gini, max_depth=3, max_features=auto, n_estimators=1000; total time=  22.3s\n",
      "[CV] END criterion=gini, max_depth=3, max_features=sqrt, n_estimators=250; total time=   5.5s\n",
      "[CV] END criterion=gini, max_depth=3, max_features=sqrt, n_estimators=250; total time=   5.3s\n",
      "[CV] END criterion=gini, max_depth=3, max_features=sqrt, n_estimators=250; total time=   5.4s\n",
      "[CV] END criterion=gini, max_depth=3, max_features=sqrt, n_estimators=500; total time=  10.9s\n",
      "[CV] END criterion=gini, max_depth=3, max_features=sqrt, n_estimators=500; total time=  10.8s\n",
      "[CV] END criterion=gini, max_depth=3, max_features=sqrt, n_estimators=500; total time=  11.8s\n",
      "[CV] END criterion=gini, max_depth=3, max_features=sqrt, n_estimators=750; total time=  16.3s\n",
      "[CV] END criterion=gini, max_depth=3, max_features=sqrt, n_estimators=750; total time=  16.3s\n",
      "[CV] END criterion=gini, max_depth=3, max_features=sqrt, n_estimators=750; total time=  16.1s\n",
      "[CV] END criterion=gini, max_depth=3, max_features=sqrt, n_estimators=1000; total time=  22.1s\n",
      "[CV] END criterion=gini, max_depth=3, max_features=sqrt, n_estimators=1000; total time=  25.5s\n",
      "[CV] END criterion=gini, max_depth=3, max_features=sqrt, n_estimators=1000; total time=  21.6s\n",
      "[CV] END criterion=gini, max_depth=3, max_features=log2, n_estimators=250; total time=   5.5s\n",
      "[CV] END criterion=gini, max_depth=3, max_features=log2, n_estimators=250; total time=   5.4s\n",
      "[CV] END criterion=gini, max_depth=3, max_features=log2, n_estimators=250; total time=   5.5s\n",
      "[CV] END criterion=gini, max_depth=3, max_features=log2, n_estimators=500; total time=  11.1s\n",
      "[CV] END criterion=gini, max_depth=3, max_features=log2, n_estimators=500; total time=  10.8s\n",
      "[CV] END criterion=gini, max_depth=3, max_features=log2, n_estimators=500; total time=  11.0s\n",
      "[CV] END criterion=gini, max_depth=3, max_features=log2, n_estimators=750; total time=  16.1s\n",
      "[CV] END criterion=gini, max_depth=3, max_features=log2, n_estimators=750; total time=  16.5s\n",
      "[CV] END criterion=gini, max_depth=3, max_features=log2, n_estimators=750; total time=  16.2s\n",
      "[CV] END criterion=gini, max_depth=3, max_features=log2, n_estimators=1000; total time=  22.0s\n",
      "[CV] END criterion=gini, max_depth=3, max_features=log2, n_estimators=1000; total time=  21.9s\n",
      "[CV] END criterion=gini, max_depth=3, max_features=log2, n_estimators=1000; total time=  21.6s\n",
      "[CV] END criterion=gini, max_depth=4, max_features=auto, n_estimators=250; total time=   6.2s\n",
      "[CV] END criterion=gini, max_depth=4, max_features=auto, n_estimators=250; total time=   6.0s\n",
      "[CV] END criterion=gini, max_depth=4, max_features=auto, n_estimators=250; total time=   6.5s\n",
      "[CV] END criterion=gini, max_depth=4, max_features=auto, n_estimators=500; total time=  12.3s\n",
      "[CV] END criterion=gini, max_depth=4, max_features=auto, n_estimators=500; total time=  12.5s\n",
      "[CV] END criterion=gini, max_depth=4, max_features=auto, n_estimators=500; total time=  12.2s\n",
      "[CV] END criterion=gini, max_depth=4, max_features=auto, n_estimators=750; total time=  18.0s\n",
      "[CV] END criterion=gini, max_depth=4, max_features=auto, n_estimators=750; total time=  18.5s\n",
      "[CV] END criterion=gini, max_depth=4, max_features=auto, n_estimators=750; total time=  18.3s\n",
      "[CV] END criterion=gini, max_depth=4, max_features=auto, n_estimators=1000; total time=  24.2s\n",
      "[CV] END criterion=gini, max_depth=4, max_features=auto, n_estimators=1000; total time=  23.6s\n",
      "[CV] END criterion=gini, max_depth=4, max_features=auto, n_estimators=1000; total time=  23.5s\n",
      "[CV] END criterion=gini, max_depth=4, max_features=sqrt, n_estimators=250; total time=   5.8s\n",
      "[CV] END criterion=gini, max_depth=4, max_features=sqrt, n_estimators=250; total time=   5.8s\n",
      "[CV] END criterion=gini, max_depth=4, max_features=sqrt, n_estimators=250; total time=   5.8s\n",
      "[CV] END criterion=gini, max_depth=4, max_features=sqrt, n_estimators=500; total time=  11.6s\n",
      "[CV] END criterion=gini, max_depth=4, max_features=sqrt, n_estimators=500; total time=  14.6s\n",
      "[CV] END criterion=gini, max_depth=4, max_features=sqrt, n_estimators=500; total time=  11.7s\n",
      "[CV] END criterion=gini, max_depth=4, max_features=sqrt, n_estimators=750; total time=  17.7s\n",
      "[CV] END criterion=gini, max_depth=4, max_features=sqrt, n_estimators=750; total time=  18.0s\n",
      "[CV] END criterion=gini, max_depth=4, max_features=sqrt, n_estimators=750; total time=  17.8s\n",
      "[CV] END criterion=gini, max_depth=4, max_features=sqrt, n_estimators=1000; total time=  24.7s\n",
      "[CV] END criterion=gini, max_depth=4, max_features=sqrt, n_estimators=1000; total time=  23.7s\n",
      "[CV] END criterion=gini, max_depth=4, max_features=sqrt, n_estimators=1000; total time=  23.6s\n",
      "[CV] END criterion=gini, max_depth=4, max_features=log2, n_estimators=250; total time=   5.8s\n",
      "[CV] END criterion=gini, max_depth=4, max_features=log2, n_estimators=250; total time=   5.9s\n",
      "[CV] END criterion=gini, max_depth=4, max_features=log2, n_estimators=250; total time=   5.8s\n",
      "[CV] END criterion=gini, max_depth=4, max_features=log2, n_estimators=500; total time=  11.5s\n",
      "[CV] END criterion=gini, max_depth=4, max_features=log2, n_estimators=500; total time=  11.6s\n",
      "[CV] END criterion=gini, max_depth=4, max_features=log2, n_estimators=500; total time=  11.7s\n",
      "[CV] END criterion=gini, max_depth=4, max_features=log2, n_estimators=750; total time=  17.9s\n",
      "[CV] END criterion=gini, max_depth=4, max_features=log2, n_estimators=750; total time=  17.7s\n",
      "[CV] END criterion=gini, max_depth=4, max_features=log2, n_estimators=750; total time=  17.7s\n",
      "[CV] END criterion=gini, max_depth=4, max_features=log2, n_estimators=1000; total time=  24.4s\n",
      "[CV] END criterion=gini, max_depth=4, max_features=log2, n_estimators=1000; total time=  24.1s\n",
      "[CV] END criterion=gini, max_depth=4, max_features=log2, n_estimators=1000; total time=  25.2s\n",
      "[CV] END criterion=gini, max_depth=5, max_features=auto, n_estimators=250; total time=   6.8s\n",
      "[CV] END criterion=gini, max_depth=5, max_features=auto, n_estimators=250; total time=   6.8s\n",
      "[CV] END criterion=gini, max_depth=5, max_features=auto, n_estimators=250; total time=   6.6s\n",
      "[CV] END criterion=gini, max_depth=5, max_features=auto, n_estimators=500; total time=  13.1s\n",
      "[CV] END criterion=gini, max_depth=5, max_features=auto, n_estimators=500; total time=  13.4s\n",
      "[CV] END criterion=gini, max_depth=5, max_features=auto, n_estimators=500; total time=  13.1s\n",
      "[CV] END criterion=gini, max_depth=5, max_features=auto, n_estimators=750; total time=  19.8s\n",
      "[CV] END criterion=gini, max_depth=5, max_features=auto, n_estimators=750; total time=  19.6s\n",
      "[CV] END criterion=gini, max_depth=5, max_features=auto, n_estimators=750; total time=  22.4s\n",
      "[CV] END criterion=gini, max_depth=5, max_features=auto, n_estimators=1000; total time=  26.9s\n",
      "[CV] END criterion=gini, max_depth=5, max_features=auto, n_estimators=1000; total time=  26.4s\n",
      "[CV] END criterion=gini, max_depth=5, max_features=auto, n_estimators=1000; total time=  27.0s\n",
      "[CV] END criterion=gini, max_depth=5, max_features=sqrt, n_estimators=250; total time=   6.8s\n",
      "[CV] END criterion=gini, max_depth=5, max_features=sqrt, n_estimators=250; total time=   7.3s\n",
      "[CV] END criterion=gini, max_depth=5, max_features=sqrt, n_estimators=250; total time=   6.4s\n",
      "[CV] END criterion=gini, max_depth=5, max_features=sqrt, n_estimators=500; total time=  12.9s\n",
      "[CV] END criterion=gini, max_depth=5, max_features=sqrt, n_estimators=500; total time=  13.2s\n",
      "[CV] END criterion=gini, max_depth=5, max_features=sqrt, n_estimators=500; total time=  12.8s\n",
      "[CV] END criterion=gini, max_depth=5, max_features=sqrt, n_estimators=750; total time=  20.0s\n",
      "[CV] END criterion=gini, max_depth=5, max_features=sqrt, n_estimators=750; total time=  19.8s\n",
      "[CV] END criterion=gini, max_depth=5, max_features=sqrt, n_estimators=750; total time=  19.5s\n",
      "[CV] END criterion=gini, max_depth=5, max_features=sqrt, n_estimators=1000; total time=  27.6s\n",
      "[CV] END criterion=gini, max_depth=5, max_features=sqrt, n_estimators=1000; total time=  26.3s\n",
      "[CV] END criterion=gini, max_depth=5, max_features=sqrt, n_estimators=1000; total time=  25.9s\n",
      "[CV] END criterion=gini, max_depth=5, max_features=log2, n_estimators=250; total time=   6.4s\n",
      "[CV] END criterion=gini, max_depth=5, max_features=log2, n_estimators=250; total time=   6.8s\n",
      "[CV] END criterion=gini, max_depth=5, max_features=log2, n_estimators=250; total time=   6.5s\n",
      "[CV] END criterion=gini, max_depth=5, max_features=log2, n_estimators=500; total time=  14.3s\n",
      "[CV] END criterion=gini, max_depth=5, max_features=log2, n_estimators=500; total time=  12.9s\n",
      "[CV] END criterion=gini, max_depth=5, max_features=log2, n_estimators=500; total time=  13.1s\n",
      "[CV] END criterion=gini, max_depth=5, max_features=log2, n_estimators=750; total time=  19.7s\n",
      "[CV] END criterion=gini, max_depth=5, max_features=log2, n_estimators=750; total time=  20.5s\n",
      "[CV] END criterion=gini, max_depth=5, max_features=log2, n_estimators=750; total time=  20.5s\n",
      "[CV] END criterion=gini, max_depth=5, max_features=log2, n_estimators=1000; total time=  26.2s\n",
      "[CV] END criterion=gini, max_depth=5, max_features=log2, n_estimators=1000; total time=  32.0s\n",
      "[CV] END criterion=gini, max_depth=5, max_features=log2, n_estimators=1000; total time=  25.9s\n",
      "[CV] END criterion=gini, max_depth=6, max_features=auto, n_estimators=250; total time=   7.3s\n",
      "[CV] END criterion=gini, max_depth=6, max_features=auto, n_estimators=250; total time=   7.3s\n",
      "[CV] END criterion=gini, max_depth=6, max_features=auto, n_estimators=250; total time=   7.5s\n",
      "[CV] END criterion=gini, max_depth=6, max_features=auto, n_estimators=500; total time=  14.7s\n",
      "[CV] END criterion=gini, max_depth=6, max_features=auto, n_estimators=500; total time=  14.3s\n",
      "[CV] END criterion=gini, max_depth=6, max_features=auto, n_estimators=500; total time=  14.5s\n",
      "[CV] END criterion=gini, max_depth=6, max_features=auto, n_estimators=750; total time=  21.6s\n",
      "[CV] END criterion=gini, max_depth=6, max_features=auto, n_estimators=750; total time=  21.8s\n",
      "[CV] END criterion=gini, max_depth=6, max_features=auto, n_estimators=750; total time=  21.6s\n",
      "[CV] END criterion=gini, max_depth=6, max_features=auto, n_estimators=1000; total time=  29.1s\n",
      "[CV] END criterion=gini, max_depth=6, max_features=auto, n_estimators=1000; total time=  28.9s\n",
      "[CV] END criterion=gini, max_depth=6, max_features=auto, n_estimators=1000; total time=  29.0s\n",
      "[CV] END criterion=gini, max_depth=6, max_features=sqrt, n_estimators=250; total time=   7.1s\n",
      "[CV] END criterion=gini, max_depth=6, max_features=sqrt, n_estimators=250; total time=   7.1s\n",
      "[CV] END criterion=gini, max_depth=6, max_features=sqrt, n_estimators=250; total time=   7.3s\n",
      "[CV] END criterion=gini, max_depth=6, max_features=sqrt, n_estimators=500; total time=  14.4s\n",
      "[CV] END criterion=gini, max_depth=6, max_features=sqrt, n_estimators=500; total time=  14.7s\n",
      "[CV] END criterion=gini, max_depth=6, max_features=sqrt, n_estimators=500; total time=  14.6s\n",
      "[CV] END criterion=gini, max_depth=6, max_features=sqrt, n_estimators=750; total time=  22.2s\n",
      "[CV] END criterion=gini, max_depth=6, max_features=sqrt, n_estimators=750; total time=  22.0s\n",
      "[CV] END criterion=gini, max_depth=6, max_features=sqrt, n_estimators=750; total time=  21.6s\n",
      "[CV] END criterion=gini, max_depth=6, max_features=sqrt, n_estimators=1000; total time=  28.8s\n",
      "[CV] END criterion=gini, max_depth=6, max_features=sqrt, n_estimators=1000; total time=  29.6s\n",
      "[CV] END criterion=gini, max_depth=6, max_features=sqrt, n_estimators=1000; total time=  30.0s\n",
      "[CV] END criterion=gini, max_depth=6, max_features=log2, n_estimators=250; total time=   7.1s\n",
      "[CV] END criterion=gini, max_depth=6, max_features=log2, n_estimators=250; total time=   7.2s\n",
      "[CV] END criterion=gini, max_depth=6, max_features=log2, n_estimators=250; total time=   7.5s\n",
      "[CV] END criterion=gini, max_depth=6, max_features=log2, n_estimators=500; total time=  14.9s\n",
      "[CV] END criterion=gini, max_depth=6, max_features=log2, n_estimators=500; total time=  15.1s\n",
      "[CV] END criterion=gini, max_depth=6, max_features=log2, n_estimators=500; total time=  14.4s\n",
      "[CV] END criterion=gini, max_depth=6, max_features=log2, n_estimators=750; total time=  21.7s\n",
      "[CV] END criterion=gini, max_depth=6, max_features=log2, n_estimators=750; total time=  22.3s\n",
      "[CV] END criterion=gini, max_depth=6, max_features=log2, n_estimators=750; total time=  21.7s\n",
      "[CV] END criterion=gini, max_depth=6, max_features=log2, n_estimators=1000; total time=  29.1s\n",
      "[CV] END criterion=gini, max_depth=6, max_features=log2, n_estimators=1000; total time=  29.3s\n",
      "[CV] END criterion=gini, max_depth=6, max_features=log2, n_estimators=1000; total time=  29.2s\n",
      "[CV] END criterion=gini, max_depth=7, max_features=auto, n_estimators=250; total time=   7.8s\n",
      "[CV] END criterion=gini, max_depth=7, max_features=auto, n_estimators=250; total time=   7.8s\n",
      "[CV] END criterion=gini, max_depth=7, max_features=auto, n_estimators=250; total time=   8.0s\n",
      "[CV] END criterion=gini, max_depth=7, max_features=auto, n_estimators=500; total time=  15.9s\n",
      "[CV] END criterion=gini, max_depth=7, max_features=auto, n_estimators=500; total time=  15.8s\n",
      "[CV] END criterion=gini, max_depth=7, max_features=auto, n_estimators=500; total time=  16.0s\n",
      "[CV] END criterion=gini, max_depth=7, max_features=auto, n_estimators=750; total time=  23.7s\n",
      "[CV] END criterion=gini, max_depth=7, max_features=auto, n_estimators=750; total time=  23.8s\n",
      "[CV] END criterion=gini, max_depth=7, max_features=auto, n_estimators=750; total time=  23.6s\n",
      "[CV] END criterion=gini, max_depth=7, max_features=auto, n_estimators=1000; total time=  32.0s\n",
      "[CV] END criterion=gini, max_depth=7, max_features=auto, n_estimators=1000; total time=  33.2s\n",
      "[CV] END criterion=gini, max_depth=7, max_features=auto, n_estimators=1000; total time=  31.8s\n",
      "[CV] END criterion=gini, max_depth=7, max_features=sqrt, n_estimators=250; total time=   8.2s\n",
      "[CV] END criterion=gini, max_depth=7, max_features=sqrt, n_estimators=250; total time=   8.0s\n",
      "[CV] END criterion=gini, max_depth=7, max_features=sqrt, n_estimators=250; total time=   8.2s\n",
      "[CV] END criterion=gini, max_depth=7, max_features=sqrt, n_estimators=500; total time=  15.7s\n",
      "[CV] END criterion=gini, max_depth=7, max_features=sqrt, n_estimators=500; total time=  15.9s\n",
      "[CV] END criterion=gini, max_depth=7, max_features=sqrt, n_estimators=500; total time=  15.9s\n",
      "[CV] END criterion=gini, max_depth=7, max_features=sqrt, n_estimators=750; total time=  24.1s\n",
      "[CV] END criterion=gini, max_depth=7, max_features=sqrt, n_estimators=750; total time=  23.9s\n",
      "[CV] END criterion=gini, max_depth=7, max_features=sqrt, n_estimators=750; total time=  24.0s\n",
      "[CV] END criterion=gini, max_depth=7, max_features=sqrt, n_estimators=1000; total time=  32.1s\n",
      "[CV] END criterion=gini, max_depth=7, max_features=sqrt, n_estimators=1000; total time=  32.1s\n",
      "[CV] END criterion=gini, max_depth=7, max_features=sqrt, n_estimators=1000; total time=  32.0s\n",
      "[CV] END criterion=gini, max_depth=7, max_features=log2, n_estimators=250; total time=   7.8s\n",
      "[CV] END criterion=gini, max_depth=7, max_features=log2, n_estimators=250; total time=   7.9s\n",
      "[CV] END criterion=gini, max_depth=7, max_features=log2, n_estimators=250; total time=   8.0s\n",
      "[CV] END criterion=gini, max_depth=7, max_features=log2, n_estimators=500; total time=  16.0s\n",
      "[CV] END criterion=gini, max_depth=7, max_features=log2, n_estimators=500; total time=  15.4s\n",
      "[CV] END criterion=gini, max_depth=7, max_features=log2, n_estimators=500; total time=  16.1s\n",
      "[CV] END criterion=gini, max_depth=7, max_features=log2, n_estimators=750; total time=  23.8s\n",
      "[CV] END criterion=gini, max_depth=7, max_features=log2, n_estimators=750; total time=  23.8s\n",
      "[CV] END criterion=gini, max_depth=7, max_features=log2, n_estimators=750; total time=  23.7s\n",
      "[CV] END criterion=gini, max_depth=7, max_features=log2, n_estimators=1000; total time=  31.7s\n",
      "[CV] END criterion=gini, max_depth=7, max_features=log2, n_estimators=1000; total time=  35.9s\n",
      "[CV] END criterion=gini, max_depth=7, max_features=log2, n_estimators=1000; total time=  32.2s\n",
      "[CV] END criterion=entropy, max_depth=3, max_features=auto, n_estimators=250; total time=   5.2s\n",
      "[CV] END criterion=entropy, max_depth=3, max_features=auto, n_estimators=250; total time=   5.7s\n",
      "[CV] END criterion=entropy, max_depth=3, max_features=auto, n_estimators=250; total time=   6.1s\n",
      "[CV] END criterion=entropy, max_depth=3, max_features=auto, n_estimators=500; total time=  10.5s\n",
      "[CV] END criterion=entropy, max_depth=3, max_features=auto, n_estimators=500; total time=  10.6s\n",
      "[CV] END criterion=entropy, max_depth=3, max_features=auto, n_estimators=500; total time=  10.8s\n",
      "[CV] END criterion=entropy, max_depth=3, max_features=auto, n_estimators=750; total time=  16.5s\n",
      "[CV] END criterion=entropy, max_depth=3, max_features=auto, n_estimators=750; total time=  15.8s\n",
      "[CV] END criterion=entropy, max_depth=3, max_features=auto, n_estimators=750; total time=  16.0s\n",
      "[CV] END criterion=entropy, max_depth=3, max_features=auto, n_estimators=1000; total time=  21.1s\n",
      "[CV] END criterion=entropy, max_depth=3, max_features=auto, n_estimators=1000; total time=  21.1s\n",
      "[CV] END criterion=entropy, max_depth=3, max_features=auto, n_estimators=1000; total time=  21.2s\n",
      "[CV] END criterion=entropy, max_depth=3, max_features=sqrt, n_estimators=250; total time=   5.3s\n",
      "[CV] END criterion=entropy, max_depth=3, max_features=sqrt, n_estimators=250; total time=   5.3s\n",
      "[CV] END criterion=entropy, max_depth=3, max_features=sqrt, n_estimators=250; total time=   5.3s\n",
      "[CV] END criterion=entropy, max_depth=3, max_features=sqrt, n_estimators=500; total time=  10.8s\n",
      "[CV] END criterion=entropy, max_depth=3, max_features=sqrt, n_estimators=500; total time=  10.4s\n",
      "[CV] END criterion=entropy, max_depth=3, max_features=sqrt, n_estimators=500; total time=  10.5s\n",
      "[CV] END criterion=entropy, max_depth=3, max_features=sqrt, n_estimators=750; total time=  15.8s\n",
      "[CV] END criterion=entropy, max_depth=3, max_features=sqrt, n_estimators=750; total time=  16.0s\n",
      "[CV] END criterion=entropy, max_depth=3, max_features=sqrt, n_estimators=750; total time=  15.8s\n",
      "[CV] END criterion=entropy, max_depth=3, max_features=sqrt, n_estimators=1000; total time=  21.5s\n",
      "[CV] END criterion=entropy, max_depth=3, max_features=sqrt, n_estimators=1000; total time=  21.4s\n",
      "[CV] END criterion=entropy, max_depth=3, max_features=sqrt, n_estimators=1000; total time=  21.2s\n",
      "[CV] END criterion=entropy, max_depth=3, max_features=log2, n_estimators=250; total time=   5.2s\n",
      "[CV] END criterion=entropy, max_depth=3, max_features=log2, n_estimators=250; total time=   5.8s\n",
      "[CV] END criterion=entropy, max_depth=3, max_features=log2, n_estimators=250; total time=   5.2s\n",
      "[CV] END criterion=entropy, max_depth=3, max_features=log2, n_estimators=500; total time=  10.6s\n",
      "[CV] END criterion=entropy, max_depth=3, max_features=log2, n_estimators=500; total time=  10.6s\n",
      "[CV] END criterion=entropy, max_depth=3, max_features=log2, n_estimators=500; total time=  12.1s\n",
      "[CV] END criterion=entropy, max_depth=3, max_features=log2, n_estimators=750; total time=  16.8s\n",
      "[CV] END criterion=entropy, max_depth=3, max_features=log2, n_estimators=750; total time=  16.0s\n",
      "[CV] END criterion=entropy, max_depth=3, max_features=log2, n_estimators=750; total time=  15.8s\n",
      "[CV] END criterion=entropy, max_depth=3, max_features=log2, n_estimators=1000; total time=  21.1s\n",
      "[CV] END criterion=entropy, max_depth=3, max_features=log2, n_estimators=1000; total time=  21.4s\n",
      "[CV] END criterion=entropy, max_depth=3, max_features=log2, n_estimators=1000; total time=  21.3s\n",
      "[CV] END criterion=entropy, max_depth=4, max_features=auto, n_estimators=250; total time=   5.9s\n",
      "[CV] END criterion=entropy, max_depth=4, max_features=auto, n_estimators=250; total time=   5.8s\n",
      "[CV] END criterion=entropy, max_depth=4, max_features=auto, n_estimators=250; total time=   5.8s\n",
      "[CV] END criterion=entropy, max_depth=4, max_features=auto, n_estimators=500; total time=  11.9s\n",
      "[CV] END criterion=entropy, max_depth=4, max_features=auto, n_estimators=500; total time=  11.8s\n",
      "[CV] END criterion=entropy, max_depth=4, max_features=auto, n_estimators=500; total time=  11.9s\n",
      "[CV] END criterion=entropy, max_depth=4, max_features=auto, n_estimators=750; total time=  18.1s\n",
      "[CV] END criterion=entropy, max_depth=4, max_features=auto, n_estimators=750; total time=  17.8s\n",
      "[CV] END criterion=entropy, max_depth=4, max_features=auto, n_estimators=750; total time=  17.8s\n",
      "[CV] END criterion=entropy, max_depth=4, max_features=auto, n_estimators=1000; total time=  24.1s\n",
      "[CV] END criterion=entropy, max_depth=4, max_features=auto, n_estimators=1000; total time=  23.6s\n",
      "[CV] END criterion=entropy, max_depth=4, max_features=auto, n_estimators=1000; total time=  23.8s\n",
      "[CV] END criterion=entropy, max_depth=4, max_features=sqrt, n_estimators=250; total time=   6.1s\n",
      "[CV] END criterion=entropy, max_depth=4, max_features=sqrt, n_estimators=250; total time=   5.8s\n",
      "[CV] END criterion=entropy, max_depth=4, max_features=sqrt, n_estimators=250; total time=   5.8s\n",
      "[CV] END criterion=entropy, max_depth=4, max_features=sqrt, n_estimators=500; total time=  14.0s\n",
      "[CV] END criterion=entropy, max_depth=4, max_features=sqrt, n_estimators=500; total time=  12.9s\n",
      "[CV] END criterion=entropy, max_depth=4, max_features=sqrt, n_estimators=500; total time=  11.8s\n",
      "[CV] END criterion=entropy, max_depth=4, max_features=sqrt, n_estimators=750; total time=  18.0s\n",
      "[CV] END criterion=entropy, max_depth=4, max_features=sqrt, n_estimators=750; total time=  17.9s\n",
      "[CV] END criterion=entropy, max_depth=4, max_features=sqrt, n_estimators=750; total time=  17.6s\n",
      "[CV] END criterion=entropy, max_depth=4, max_features=sqrt, n_estimators=1000; total time=  23.8s\n",
      "[CV] END criterion=entropy, max_depth=4, max_features=sqrt, n_estimators=1000; total time=  29.3s\n",
      "[CV] END criterion=entropy, max_depth=4, max_features=sqrt, n_estimators=1000; total time=  23.9s\n",
      "[CV] END criterion=entropy, max_depth=4, max_features=log2, n_estimators=250; total time=   6.1s\n",
      "[CV] END criterion=entropy, max_depth=4, max_features=log2, n_estimators=250; total time=   5.9s\n",
      "[CV] END criterion=entropy, max_depth=4, max_features=log2, n_estimators=250; total time=   5.9s\n",
      "[CV] END criterion=entropy, max_depth=4, max_features=log2, n_estimators=500; total time=  12.1s\n",
      "[CV] END criterion=entropy, max_depth=4, max_features=log2, n_estimators=500; total time=  12.4s\n",
      "[CV] END criterion=entropy, max_depth=4, max_features=log2, n_estimators=500; total time=  11.7s\n",
      "[CV] END criterion=entropy, max_depth=4, max_features=log2, n_estimators=750; total time=  19.7s\n",
      "[CV] END criterion=entropy, max_depth=4, max_features=log2, n_estimators=750; total time=  18.1s\n",
      "[CV] END criterion=entropy, max_depth=4, max_features=log2, n_estimators=750; total time=  17.9s\n",
      "[CV] END criterion=entropy, max_depth=4, max_features=log2, n_estimators=1000; total time=  24.6s\n",
      "[CV] END criterion=entropy, max_depth=4, max_features=log2, n_estimators=1000; total time=  23.8s\n",
      "[CV] END criterion=entropy, max_depth=4, max_features=log2, n_estimators=1000; total time=  23.7s\n",
      "[CV] END criterion=entropy, max_depth=5, max_features=auto, n_estimators=250; total time=   6.8s\n",
      "[CV] END criterion=entropy, max_depth=5, max_features=auto, n_estimators=250; total time=   6.6s\n",
      "[CV] END criterion=entropy, max_depth=5, max_features=auto, n_estimators=250; total time=   6.7s\n",
      "[CV] END criterion=entropy, max_depth=5, max_features=auto, n_estimators=500; total time=  13.7s\n",
      "[CV] END criterion=entropy, max_depth=5, max_features=auto, n_estimators=500; total time=  13.4s\n",
      "[CV] END criterion=entropy, max_depth=5, max_features=auto, n_estimators=500; total time=  13.1s\n",
      "[CV] END criterion=entropy, max_depth=5, max_features=auto, n_estimators=750; total time=  21.8s\n",
      "[CV] END criterion=entropy, max_depth=5, max_features=auto, n_estimators=750; total time=  31.7s\n",
      "[CV] END criterion=entropy, max_depth=5, max_features=auto, n_estimators=750; total time=  22.9s\n",
      "[CV] END criterion=entropy, max_depth=5, max_features=auto, n_estimators=1000; total time=  39.3s\n",
      "[CV] END criterion=entropy, max_depth=5, max_features=auto, n_estimators=1000; total time=  26.6s\n",
      "[CV] END criterion=entropy, max_depth=5, max_features=auto, n_estimators=1000; total time=  29.9s\n",
      "[CV] END criterion=entropy, max_depth=5, max_features=sqrt, n_estimators=250; total time=   6.8s\n",
      "[CV] END criterion=entropy, max_depth=5, max_features=sqrt, n_estimators=250; total time=   6.6s\n",
      "[CV] END criterion=entropy, max_depth=5, max_features=sqrt, n_estimators=250; total time=   6.5s\n",
      "[CV] END criterion=entropy, max_depth=5, max_features=sqrt, n_estimators=500; total time=  13.2s\n",
      "[CV] END criterion=entropy, max_depth=5, max_features=sqrt, n_estimators=500; total time=  13.4s\n",
      "[CV] END criterion=entropy, max_depth=5, max_features=sqrt, n_estimators=500; total time=  15.4s\n",
      "[CV] END criterion=entropy, max_depth=5, max_features=sqrt, n_estimators=750; total time=  26.8s\n",
      "[CV] END criterion=entropy, max_depth=5, max_features=sqrt, n_estimators=750; total time=  23.0s\n",
      "[CV] END criterion=entropy, max_depth=5, max_features=sqrt, n_estimators=750; total time=  20.0s\n",
      "[CV] END criterion=entropy, max_depth=5, max_features=sqrt, n_estimators=1000; total time=  27.0s\n",
      "[CV] END criterion=entropy, max_depth=5, max_features=sqrt, n_estimators=1000; total time=  26.6s\n",
      "[CV] END criterion=entropy, max_depth=5, max_features=sqrt, n_estimators=1000; total time=  27.4s\n",
      "[CV] END criterion=entropy, max_depth=5, max_features=log2, n_estimators=250; total time=   7.3s\n",
      "[CV] END criterion=entropy, max_depth=5, max_features=log2, n_estimators=250; total time=   6.6s\n",
      "[CV] END criterion=entropy, max_depth=5, max_features=log2, n_estimators=250; total time=   6.6s\n",
      "[CV] END criterion=entropy, max_depth=5, max_features=log2, n_estimators=500; total time=  13.3s\n",
      "[CV] END criterion=entropy, max_depth=5, max_features=log2, n_estimators=500; total time=  13.5s\n",
      "[CV] END criterion=entropy, max_depth=5, max_features=log2, n_estimators=500; total time=  13.3s\n",
      "[CV] END criterion=entropy, max_depth=5, max_features=log2, n_estimators=750; total time=  20.3s\n",
      "[CV] END criterion=entropy, max_depth=5, max_features=log2, n_estimators=750; total time=  19.9s\n",
      "[CV] END criterion=entropy, max_depth=5, max_features=log2, n_estimators=750; total time=  19.5s\n",
      "[CV] END criterion=entropy, max_depth=5, max_features=log2, n_estimators=1000; total time=  26.7s\n",
      "[CV] END criterion=entropy, max_depth=5, max_features=log2, n_estimators=1000; total time=  27.1s\n",
      "[CV] END criterion=entropy, max_depth=5, max_features=log2, n_estimators=1000; total time=  26.6s\n",
      "[CV] END criterion=entropy, max_depth=6, max_features=auto, n_estimators=250; total time=   7.4s\n",
      "[CV] END criterion=entropy, max_depth=6, max_features=auto, n_estimators=250; total time=   7.4s\n",
      "[CV] END criterion=entropy, max_depth=6, max_features=auto, n_estimators=250; total time=   9.1s\n",
      "[CV] END criterion=entropy, max_depth=6, max_features=auto, n_estimators=500; total time=  16.4s\n",
      "[CV] END criterion=entropy, max_depth=6, max_features=auto, n_estimators=500; total time=  15.0s\n",
      "[CV] END criterion=entropy, max_depth=6, max_features=auto, n_estimators=500; total time=  14.8s\n",
      "[CV] END criterion=entropy, max_depth=6, max_features=auto, n_estimators=750; total time=  22.6s\n",
      "[CV] END criterion=entropy, max_depth=6, max_features=auto, n_estimators=750; total time=  23.4s\n",
      "[CV] END criterion=entropy, max_depth=6, max_features=auto, n_estimators=750; total time=  22.7s\n",
      "[CV] END criterion=entropy, max_depth=6, max_features=auto, n_estimators=1000; total time=  30.0s\n",
      "[CV] END criterion=entropy, max_depth=6, max_features=auto, n_estimators=1000; total time=  30.0s\n",
      "[CV] END criterion=entropy, max_depth=6, max_features=auto, n_estimators=1000; total time=  29.9s\n",
      "[CV] END criterion=entropy, max_depth=6, max_features=sqrt, n_estimators=250; total time=   7.5s\n",
      "[CV] END criterion=entropy, max_depth=6, max_features=sqrt, n_estimators=250; total time=   7.5s\n",
      "[CV] END criterion=entropy, max_depth=6, max_features=sqrt, n_estimators=250; total time=   7.4s\n",
      "[CV] END criterion=entropy, max_depth=6, max_features=sqrt, n_estimators=500; total time=  14.9s\n",
      "[CV] END criterion=entropy, max_depth=6, max_features=sqrt, n_estimators=500; total time=  15.0s\n",
      "[CV] END criterion=entropy, max_depth=6, max_features=sqrt, n_estimators=500; total time=  14.8s\n",
      "[CV] END criterion=entropy, max_depth=6, max_features=sqrt, n_estimators=750; total time=  22.3s\n",
      "[CV] END criterion=entropy, max_depth=6, max_features=sqrt, n_estimators=750; total time=  22.7s\n",
      "[CV] END criterion=entropy, max_depth=6, max_features=sqrt, n_estimators=750; total time=  22.3s\n",
      "[CV] END criterion=entropy, max_depth=6, max_features=sqrt, n_estimators=1000; total time=  29.9s\n",
      "[CV] END criterion=entropy, max_depth=6, max_features=sqrt, n_estimators=1000; total time=  29.9s\n",
      "[CV] END criterion=entropy, max_depth=6, max_features=sqrt, n_estimators=1000; total time=  29.5s\n",
      "[CV] END criterion=entropy, max_depth=6, max_features=log2, n_estimators=250; total time=   7.5s\n",
      "[CV] END criterion=entropy, max_depth=6, max_features=log2, n_estimators=250; total time=   7.5s\n",
      "[CV] END criterion=entropy, max_depth=6, max_features=log2, n_estimators=250; total time=   9.3s\n",
      "[CV] END criterion=entropy, max_depth=6, max_features=log2, n_estimators=500; total time=  16.9s\n",
      "[CV] END criterion=entropy, max_depth=6, max_features=log2, n_estimators=500; total time=  15.3s\n",
      "[CV] END criterion=entropy, max_depth=6, max_features=log2, n_estimators=500; total time=  14.8s\n",
      "[CV] END criterion=entropy, max_depth=6, max_features=log2, n_estimators=750; total time=  22.5s\n",
      "[CV] END criterion=entropy, max_depth=6, max_features=log2, n_estimators=750; total time=  22.9s\n",
      "[CV] END criterion=entropy, max_depth=6, max_features=log2, n_estimators=750; total time=  22.2s\n",
      "[CV] END criterion=entropy, max_depth=6, max_features=log2, n_estimators=1000; total time=  29.9s\n",
      "[CV] END criterion=entropy, max_depth=6, max_features=log2, n_estimators=1000; total time=  30.2s\n",
      "[CV] END criterion=entropy, max_depth=6, max_features=log2, n_estimators=1000; total time=  29.8s\n",
      "[CV] END criterion=entropy, max_depth=7, max_features=auto, n_estimators=250; total time=   8.2s\n",
      "[CV] END criterion=entropy, max_depth=7, max_features=auto, n_estimators=250; total time=   8.4s\n",
      "[CV] END criterion=entropy, max_depth=7, max_features=auto, n_estimators=250; total time=   8.2s\n",
      "[CV] END criterion=entropy, max_depth=7, max_features=auto, n_estimators=500; total time=  16.5s\n",
      "[CV] END criterion=entropy, max_depth=7, max_features=auto, n_estimators=500; total time=  16.7s\n",
      "[CV] END criterion=entropy, max_depth=7, max_features=auto, n_estimators=500; total time=  16.5s\n",
      "[CV] END criterion=entropy, max_depth=7, max_features=auto, n_estimators=750; total time=  25.2s\n",
      "[CV] END criterion=entropy, max_depth=7, max_features=auto, n_estimators=750; total time=  25.2s\n",
      "[CV] END criterion=entropy, max_depth=7, max_features=auto, n_estimators=750; total time=  24.9s\n",
      "[CV] END criterion=entropy, max_depth=7, max_features=auto, n_estimators=1000; total time=  33.4s\n",
      "[CV] END criterion=entropy, max_depth=7, max_features=auto, n_estimators=1000; total time=  33.5s\n",
      "[CV] END criterion=entropy, max_depth=7, max_features=auto, n_estimators=1000; total time=  33.3s\n",
      "[CV] END criterion=entropy, max_depth=7, max_features=sqrt, n_estimators=250; total time=  10.2s\n",
      "[CV] END criterion=entropy, max_depth=7, max_features=sqrt, n_estimators=250; total time=   9.0s\n",
      "[CV] END criterion=entropy, max_depth=7, max_features=sqrt, n_estimators=250; total time=   8.4s\n",
      "[CV] END criterion=entropy, max_depth=7, max_features=sqrt, n_estimators=500; total time=  16.8s\n",
      "[CV] END criterion=entropy, max_depth=7, max_features=sqrt, n_estimators=500; total time=  16.5s\n",
      "[CV] END criterion=entropy, max_depth=7, max_features=sqrt, n_estimators=500; total time=  16.6s\n",
      "[CV] END criterion=entropy, max_depth=7, max_features=sqrt, n_estimators=750; total time=  25.6s\n",
      "[CV] END criterion=entropy, max_depth=7, max_features=sqrt, n_estimators=750; total time=  24.8s\n",
      "[CV] END criterion=entropy, max_depth=7, max_features=sqrt, n_estimators=750; total time=  25.2s\n",
      "[CV] END criterion=entropy, max_depth=7, max_features=sqrt, n_estimators=1000; total time=  33.3s\n",
      "[CV] END criterion=entropy, max_depth=7, max_features=sqrt, n_estimators=1000; total time=  33.4s\n",
      "[CV] END criterion=entropy, max_depth=7, max_features=sqrt, n_estimators=1000; total time=  33.8s\n",
      "[CV] END criterion=entropy, max_depth=7, max_features=log2, n_estimators=250; total time=   8.3s\n",
      "[CV] END criterion=entropy, max_depth=7, max_features=log2, n_estimators=250; total time=   8.4s\n",
      "[CV] END criterion=entropy, max_depth=7, max_features=log2, n_estimators=250; total time=   8.3s\n",
      "[CV] END criterion=entropy, max_depth=7, max_features=log2, n_estimators=500; total time=  17.0s\n",
      "[CV] END criterion=entropy, max_depth=7, max_features=log2, n_estimators=500; total time=  16.5s\n",
      "[CV] END criterion=entropy, max_depth=7, max_features=log2, n_estimators=500; total time=  16.6s\n",
      "[CV] END criterion=entropy, max_depth=7, max_features=log2, n_estimators=750; total time=  24.7s\n",
      "[CV] END criterion=entropy, max_depth=7, max_features=log2, n_estimators=750; total time=  25.9s\n",
      "[CV] END criterion=entropy, max_depth=7, max_features=log2, n_estimators=750; total time=  24.7s\n",
      "[CV] END criterion=entropy, max_depth=7, max_features=log2, n_estimators=1000; total time=  33.1s\n",
      "[CV] END criterion=entropy, max_depth=7, max_features=log2, n_estimators=1000; total time=  36.2s\n",
      "[CV] END criterion=entropy, max_depth=7, max_features=log2, n_estimators=1000; total time=  33.3s\n"
     ]
    },
    {
     "data": {
      "text/plain": [
       "GridSearchCV(cv=3, estimator=RandomForestClassifier(random_state=42),\n",
       "             param_grid={'criterion': ['gini', 'entropy'],\n",
       "                         'max_depth': [3, 4, 5, 6, 7],\n",
       "                         'max_features': ['auto', 'sqrt', 'log2'],\n",
       "                         'n_estimators': [250, 500, 750, 1000]},\n",
       "             refit='AUC', return_train_score=True, scoring='roc_auc',\n",
       "             verbose=2)"
      ]
     },
     "execution_count": 47,
     "metadata": {},
     "output_type": "execute_result"
    }
   ],
   "source": [
    "rfc_claimNumber = GridSearchCV(estimator=rfc, param_grid=param_grid, cv=3, verbose=2, scoring='roc_auc', refit='AUC', return_train_score=True)\n",
    "rfc_claimNumber.fit(X_train_claimNumber, y_train_claimNumber)"
   ]
  },
  {
   "cell_type": "code",
   "execution_count": 48,
   "metadata": {},
   "outputs": [
    {
     "data": {
      "text/plain": [
       "RandomForestClassifier(max_depth=7, n_estimators=1000, random_state=42)"
      ]
     },
     "execution_count": 48,
     "metadata": {},
     "output_type": "execute_result"
    }
   ],
   "source": [
    "rfc_claimNumber.best_estimator_"
   ]
  },
  {
   "cell_type": "code",
   "execution_count": 49,
   "metadata": {},
   "outputs": [
    {
     "data": {
      "text/plain": [
       "0.766021605160498"
      ]
     },
     "execution_count": 49,
     "metadata": {},
     "output_type": "execute_result"
    }
   ],
   "source": [
    "rfc_claimNumber.best_score_"
   ]
  },
  {
   "cell_type": "code",
   "execution_count": 50,
   "metadata": {},
   "outputs": [
    {
     "data": {
      "text/plain": [
       "{'criterion': 'gini',\n",
       " 'max_depth': 7,\n",
       " 'max_features': 'auto',\n",
       " 'n_estimators': 1000}"
      ]
     },
     "execution_count": 50,
     "metadata": {},
     "output_type": "execute_result"
    }
   ],
   "source": [
    "rfc_claimNumber.best_params_"
   ]
  },
  {
   "cell_type": "code",
   "execution_count": 102,
   "metadata": {},
   "outputs": [],
   "source": [
    "rfc_best_claimNumber = RandomForestClassifier(random_state=SEED, **rfc_claimNumber.best_params_)"
   ]
  },
  {
   "cell_type": "code",
   "execution_count": 103,
   "metadata": {},
   "outputs": [],
   "source": [
    "rfc_best_claimNumber.fit(X_train_claimNumber, y_train_claimNumber)\n",
    "\n",
    "y_pred_prob_claimNumber = rfc_best_claimNumber.predict_proba(X_val_claimNumber)\n",
    "y_pred_claimNumber = rfc_best_claimNumber.predict(X_val_claimNumber)"
   ]
  },
  {
   "cell_type": "code",
   "execution_count": 61,
   "metadata": {},
   "outputs": [
    {
     "data": {
      "text/html": [
       "<div>\n",
       "<style scoped>\n",
       "    .dataframe tbody tr th:only-of-type {\n",
       "        vertical-align: middle;\n",
       "    }\n",
       "\n",
       "    .dataframe tbody tr th {\n",
       "        vertical-align: top;\n",
       "    }\n",
       "\n",
       "    .dataframe thead th {\n",
       "        text-align: right;\n",
       "    }\n",
       "</style>\n",
       "<table border=\"1\" class=\"dataframe\">\n",
       "  <thead>\n",
       "    <tr style=\"text-align: right;\">\n",
       "      <th></th>\n",
       "      <th>p2</th>\n",
       "      <th>un</th>\n",
       "      <th>zero</th>\n",
       "    </tr>\n",
       "  </thead>\n",
       "  <tbody>\n",
       "    <tr>\n",
       "      <th>12628</th>\n",
       "      <td>0</td>\n",
       "      <td>0</td>\n",
       "      <td>1</td>\n",
       "    </tr>\n",
       "    <tr>\n",
       "      <th>37730</th>\n",
       "      <td>0</td>\n",
       "      <td>0</td>\n",
       "      <td>1</td>\n",
       "    </tr>\n",
       "    <tr>\n",
       "      <th>39991</th>\n",
       "      <td>1</td>\n",
       "      <td>0</td>\n",
       "      <td>0</td>\n",
       "    </tr>\n",
       "    <tr>\n",
       "      <th>8525</th>\n",
       "      <td>0</td>\n",
       "      <td>0</td>\n",
       "      <td>1</td>\n",
       "    </tr>\n",
       "    <tr>\n",
       "      <th>8279</th>\n",
       "      <td>0</td>\n",
       "      <td>0</td>\n",
       "      <td>1</td>\n",
       "    </tr>\n",
       "    <tr>\n",
       "      <th>...</th>\n",
       "      <td>...</td>\n",
       "      <td>...</td>\n",
       "      <td>...</td>\n",
       "    </tr>\n",
       "    <tr>\n",
       "      <th>31663</th>\n",
       "      <td>0</td>\n",
       "      <td>0</td>\n",
       "      <td>1</td>\n",
       "    </tr>\n",
       "    <tr>\n",
       "      <th>52944</th>\n",
       "      <td>1</td>\n",
       "      <td>0</td>\n",
       "      <td>0</td>\n",
       "    </tr>\n",
       "    <tr>\n",
       "      <th>11560</th>\n",
       "      <td>0</td>\n",
       "      <td>0</td>\n",
       "      <td>1</td>\n",
       "    </tr>\n",
       "    <tr>\n",
       "      <th>38411</th>\n",
       "      <td>0</td>\n",
       "      <td>0</td>\n",
       "      <td>1</td>\n",
       "    </tr>\n",
       "    <tr>\n",
       "      <th>18460</th>\n",
       "      <td>0</td>\n",
       "      <td>0</td>\n",
       "      <td>1</td>\n",
       "    </tr>\n",
       "  </tbody>\n",
       "</table>\n",
       "<p>50000 rows × 3 columns</p>\n",
       "</div>"
      ],
      "text/plain": [
       "       p2  un  zero\n",
       "12628   0   0     1\n",
       "37730   0   0     1\n",
       "39991   1   0     0\n",
       "8525    0   0     1\n",
       "8279    0   0     1\n",
       "...    ..  ..   ...\n",
       "31663   0   0     1\n",
       "52944   1   0     0\n",
       "11560   0   0     1\n",
       "38411   0   0     1\n",
       "18460   0   0     1\n",
       "\n",
       "[50000 rows x 3 columns]"
      ]
     },
     "execution_count": 61,
     "metadata": {},
     "output_type": "execute_result"
    }
   ],
   "source": [
    "y_train_claimNumber"
   ]
  },
  {
   "cell_type": "code",
   "execution_count": 105,
   "metadata": {},
   "outputs": [
    {
     "data": {
      "text/plain": [
       "array([[0.048559, 0.204175, 0.747266],\n",
       "       [0.005741, 0.078275, 0.915984],\n",
       "       [0.014867, 0.110336, 0.874797],\n",
       "       [0.048646, 0.190281, 0.761073],\n",
       "       [0.028325, 0.156533, 0.815142]])"
      ]
     },
     "execution_count": 105,
     "metadata": {},
     "output_type": "execute_result"
    }
   ],
   "source": [
    "y_pred_prob_claimNumber[:5]"
   ]
  },
  {
   "cell_type": "code",
   "execution_count": 122,
   "metadata": {},
   "outputs": [],
   "source": [
    "# saving this prediction for later\n",
    "np.save(\"models/rfc_gini_7_auto_1000_claimNumber_proba_val.npy\", y_pred_prob_claimNumber)"
   ]
  },
  {
   "attachments": {},
   "cell_type": "markdown",
   "metadata": {},
   "source": [
    "### XGBoost"
   ]
  },
  {
   "cell_type": "code",
   "execution_count": 76,
   "metadata": {},
   "outputs": [],
   "source": [
    "# changing how numpy sisplays numbers\n",
    "np.set_printoptions(formatter={'float_kind':'{:f}'.format})"
   ]
  },
  {
   "cell_type": "code",
   "execution_count": 70,
   "metadata": {},
   "outputs": [],
   "source": [
    "from xgboost import XGBClassifier\n",
    "\n",
    "naive_xgboost_claimNumber = XGBClassifier(max_depth=7, n_estimators=750)"
   ]
  },
  {
   "attachments": {},
   "cell_type": "markdown",
   "metadata": {},
   "source": [
    "We need to encode categorical output values "
   ]
  },
  {
   "cell_type": "code",
   "execution_count": 107,
   "metadata": {},
   "outputs": [],
   "source": [
    "from sklearn.preprocessing import LabelEncoder\n",
    "\n",
    "le = LabelEncoder()\n",
    "y_train_claimNumber = le.fit_transform(y_train_claimNumber)"
   ]
  },
  {
   "cell_type": "code",
   "execution_count": 108,
   "metadata": {},
   "outputs": [
    {
     "name": "stdout",
     "output_type": "stream",
     "text": [
      "[23:35:24] WARNING: C:/buildkite-agent/builds/buildkite-windows-cpu-autoscaling-group-i-030221e36e1a46bfb-1/xgboost/xgboost-ci-windows/src/learner.cc:767: \n",
      "Parameters: { \"scale_pos_weight\" } are not used.\n",
      "\n"
     ]
    }
   ],
   "source": [
    "naive_xgboost_claimNumber.fit(X_train_claimNumber, y_train_claimNumber)\n",
    "y_pred_proba_train_claimNumber = naive_xgboost_claimNumber.predict_proba(X_train_claimNumber)\n",
    "y_pred_proba_val_claimNumber = naive_xgboost_claimNumber.predict_proba(X_val_claimNumber)"
   ]
  },
  {
   "cell_type": "code",
   "execution_count": 109,
   "metadata": {},
   "outputs": [
    {
     "data": {
      "text/plain": [
       "array([[0.000095, 0.004335, 0.995570],\n",
       "       [0.000001, 0.000994, 0.999005],\n",
       "       [0.929569, 0.019917, 0.050513],\n",
       "       [0.000077, 0.166485, 0.833438],\n",
       "       [0.000103, 0.012203, 0.987695]], dtype=float32)"
      ]
     },
     "execution_count": 109,
     "metadata": {},
     "output_type": "execute_result"
    }
   ],
   "source": [
    "y_pred_proba_train_claimNumber[:5]"
   ]
  },
  {
   "cell_type": "code",
   "execution_count": 75,
   "metadata": {},
   "outputs": [
    {
     "data": {
      "text/html": [
       "<div>\n",
       "<style scoped>\n",
       "    .dataframe tbody tr th:only-of-type {\n",
       "        vertical-align: middle;\n",
       "    }\n",
       "\n",
       "    .dataframe tbody tr th {\n",
       "        vertical-align: top;\n",
       "    }\n",
       "\n",
       "    .dataframe thead th {\n",
       "        text-align: right;\n",
       "    }\n",
       "</style>\n",
       "<table border=\"1\" class=\"dataframe\">\n",
       "  <thead>\n",
       "    <tr style=\"text-align: right;\">\n",
       "      <th></th>\n",
       "      <th>p2</th>\n",
       "      <th>un</th>\n",
       "      <th>zero</th>\n",
       "    </tr>\n",
       "  </thead>\n",
       "  <tbody>\n",
       "    <tr>\n",
       "      <th>3675</th>\n",
       "      <td>0</td>\n",
       "      <td>0</td>\n",
       "      <td>1</td>\n",
       "    </tr>\n",
       "    <tr>\n",
       "      <th>15450</th>\n",
       "      <td>0</td>\n",
       "      <td>0</td>\n",
       "      <td>1</td>\n",
       "    </tr>\n",
       "    <tr>\n",
       "      <th>20608</th>\n",
       "      <td>0</td>\n",
       "      <td>0</td>\n",
       "      <td>1</td>\n",
       "    </tr>\n",
       "    <tr>\n",
       "      <th>46531</th>\n",
       "      <td>0</td>\n",
       "      <td>1</td>\n",
       "      <td>0</td>\n",
       "    </tr>\n",
       "    <tr>\n",
       "      <th>6749</th>\n",
       "      <td>0</td>\n",
       "      <td>0</td>\n",
       "      <td>1</td>\n",
       "    </tr>\n",
       "  </tbody>\n",
       "</table>\n",
       "</div>"
      ],
      "text/plain": [
       "       p2  un  zero\n",
       "3675    0   0     1\n",
       "15450   0   0     1\n",
       "20608   0   0     1\n",
       "46531   0   1     0\n",
       "6749    0   0     1"
      ]
     },
     "execution_count": 75,
     "metadata": {},
     "output_type": "execute_result"
    }
   ],
   "source": [
    "y_val_claimNumber[:5]"
   ]
  },
  {
   "cell_type": "code",
   "execution_count": 110,
   "metadata": {},
   "outputs": [],
   "source": [
    "y_train_pred_claimNumber = naive_xgboost_claimNumber.predict(X_train_claimNumber)\n",
    "y_val_pred_claimNumber = naive_xgboost_claimNumber.predict(X_val_claimNumber)"
   ]
  },
  {
   "cell_type": "code",
   "execution_count": 115,
   "metadata": {},
   "outputs": [
    {
     "data": {
      "text/plain": [
       "array(['zero', 'zero', 'zero', 'zero', 'zero'], dtype=object)"
      ]
     },
     "execution_count": 115,
     "metadata": {},
     "output_type": "execute_result"
    }
   ],
   "source": [
    "le.inverse_transform(y_val_pred_claimNumber)[:5]"
   ]
  },
  {
   "cell_type": "code",
   "execution_count": 112,
   "metadata": {},
   "outputs": [
    {
     "data": {
      "text/plain": [
       "array([[0.000595, 0.269743, 0.729662],\n",
       "       [0.000038, 0.016308, 0.983654],\n",
       "       [0.000192, 0.001092, 0.998716],\n",
       "       [0.003797, 0.073458, 0.922745],\n",
       "       [0.000398, 0.133179, 0.866423]], dtype=float32)"
      ]
     },
     "execution_count": 112,
     "metadata": {},
     "output_type": "execute_result"
    }
   ],
   "source": [
    "y_pred_proba_val_claimNumber[:5]"
   ]
  },
  {
   "cell_type": "code",
   "execution_count": 114,
   "metadata": {},
   "outputs": [
    {
     "name": "stdout",
     "output_type": "stream",
     "text": [
      "              precision    recall  f1-score   support\n",
      "\n",
      "          p2       0.09      0.27      0.14        85\n",
      "          un       0.11      0.30      0.16       464\n",
      "        zero       0.96      0.86      0.91      9451\n",
      "\n",
      "    accuracy                           0.83     10000\n",
      "   macro avg       0.39      0.48      0.40     10000\n",
      "weighted avg       0.92      0.83      0.87     10000\n",
      "\n"
     ]
    }
   ],
   "source": [
    "print(classification_report(le.inverse_transform(y_val_pred_claimNumber), y_val_claimNumber))"
   ]
  },
  {
   "cell_type": "code",
   "execution_count": 128,
   "metadata": {},
   "outputs": [
    {
     "data": {
      "text/plain": [
       "array([[0, 0, 1],\n",
       "       [0, 0, 1],\n",
       "       [0, 0, 1],\n",
       "       ...,\n",
       "       [0, 0, 1],\n",
       "       [0, 0, 1],\n",
       "       [0, 1, 0]], dtype=uint8)"
      ]
     },
     "execution_count": 128,
     "metadata": {},
     "output_type": "execute_result"
    }
   ],
   "source": [
    "np.array(pd.get_dummies(y_val_claimNumber))"
   ]
  },
  {
   "cell_type": "code",
   "execution_count": 125,
   "metadata": {},
   "outputs": [],
   "source": [
    "np.save(\"models/xgboost_7_750_proba_val.npy\", y_pred_proba_val_claimNumber)"
   ]
  },
  {
   "cell_type": "code",
   "execution_count": 129,
   "metadata": {},
   "outputs": [],
   "source": [
    "np.save(\"models/GroundTruth_claimNumber.npy\", np.array(pd.get_dummies(y_val_claimNumber)))"
   ]
  },
  {
   "cell_type": "code",
   "execution_count": 116,
   "metadata": {},
   "outputs": [
    {
     "ename": "AttributeError",
     "evalue": "'Series' object has no attribute 'p2'",
     "output_type": "error",
     "traceback": [
      "\u001b[1;31m---------------------------------------------------------------------------\u001b[0m",
      "\u001b[1;31mAttributeError\u001b[0m                            Traceback (most recent call last)",
      "\u001b[1;32m~\\AppData\\Local\\Temp/ipykernel_19192/2603840079.py\u001b[0m in \u001b[0;36m<module>\u001b[1;34m\u001b[0m\n\u001b[0;32m      5\u001b[0m \u001b[0mprob_xgb_zero\u001b[0m \u001b[1;33m=\u001b[0m \u001b[1;33m[\u001b[0m\u001b[0mp\u001b[0m\u001b[1;33m[\u001b[0m\u001b[1;36m2\u001b[0m\u001b[1;33m]\u001b[0m \u001b[1;32mfor\u001b[0m \u001b[0mp\u001b[0m \u001b[1;32min\u001b[0m \u001b[0my_pred_proba_val_claimNumber\u001b[0m\u001b[1;33m]\u001b[0m\u001b[1;33m\u001b[0m\u001b[1;33m\u001b[0m\u001b[0m\n\u001b[0;32m      6\u001b[0m \u001b[1;31m# Ground Truth in a dataframe\u001b[0m\u001b[1;33m\u001b[0m\u001b[1;33m\u001b[0m\u001b[0m\n\u001b[1;32m----> 7\u001b[1;33m \u001b[0my_GT_p2\u001b[0m \u001b[1;33m=\u001b[0m \u001b[0mnp\u001b[0m\u001b[1;33m.\u001b[0m\u001b[0marray\u001b[0m\u001b[1;33m(\u001b[0m\u001b[0my_val_claimNumber\u001b[0m\u001b[1;33m.\u001b[0m\u001b[0mp2\u001b[0m\u001b[1;33m)\u001b[0m\u001b[1;33m\u001b[0m\u001b[1;33m\u001b[0m\u001b[0m\n\u001b[0m\u001b[0;32m      8\u001b[0m \u001b[0my_GT_one\u001b[0m \u001b[1;33m=\u001b[0m \u001b[0mnp\u001b[0m\u001b[1;33m.\u001b[0m\u001b[0marray\u001b[0m\u001b[1;33m(\u001b[0m\u001b[0my_val_claimNumber\u001b[0m\u001b[1;33m.\u001b[0m\u001b[0mun\u001b[0m\u001b[1;33m)\u001b[0m\u001b[1;33m\u001b[0m\u001b[1;33m\u001b[0m\u001b[0m\n\u001b[0;32m      9\u001b[0m \u001b[0my_GT_zero\u001b[0m \u001b[1;33m=\u001b[0m \u001b[0mnp\u001b[0m\u001b[1;33m.\u001b[0m\u001b[0marray\u001b[0m\u001b[1;33m(\u001b[0m\u001b[0my_val_claimNumber\u001b[0m\u001b[1;33m.\u001b[0m\u001b[0mzero\u001b[0m\u001b[1;33m)\u001b[0m\u001b[1;33m\u001b[0m\u001b[1;33m\u001b[0m\u001b[0m\n",
      "\u001b[1;32mc:\\Users\\Lenovo\\AppData\\Local\\Programs\\Python\\Python39\\lib\\site-packages\\pandas\\core\\generic.py\u001b[0m in \u001b[0;36m__getattr__\u001b[1;34m(self, name)\u001b[0m\n\u001b[0;32m   5485\u001b[0m         ):\n\u001b[0;32m   5486\u001b[0m             \u001b[1;32mreturn\u001b[0m \u001b[0mself\u001b[0m\u001b[1;33m[\u001b[0m\u001b[0mname\u001b[0m\u001b[1;33m]\u001b[0m\u001b[1;33m\u001b[0m\u001b[1;33m\u001b[0m\u001b[0m\n\u001b[1;32m-> 5487\u001b[1;33m         \u001b[1;32mreturn\u001b[0m \u001b[0mobject\u001b[0m\u001b[1;33m.\u001b[0m\u001b[0m__getattribute__\u001b[0m\u001b[1;33m(\u001b[0m\u001b[0mself\u001b[0m\u001b[1;33m,\u001b[0m \u001b[0mname\u001b[0m\u001b[1;33m)\u001b[0m\u001b[1;33m\u001b[0m\u001b[1;33m\u001b[0m\u001b[0m\n\u001b[0m\u001b[0;32m   5488\u001b[0m \u001b[1;33m\u001b[0m\u001b[0m\n\u001b[0;32m   5489\u001b[0m     \u001b[1;32mdef\u001b[0m \u001b[0m__setattr__\u001b[0m\u001b[1;33m(\u001b[0m\u001b[0mself\u001b[0m\u001b[1;33m,\u001b[0m \u001b[0mname\u001b[0m\u001b[1;33m:\u001b[0m \u001b[0mstr\u001b[0m\u001b[1;33m,\u001b[0m \u001b[0mvalue\u001b[0m\u001b[1;33m)\u001b[0m \u001b[1;33m->\u001b[0m \u001b[1;32mNone\u001b[0m\u001b[1;33m:\u001b[0m\u001b[1;33m\u001b[0m\u001b[1;33m\u001b[0m\u001b[0m\n",
      "\u001b[1;31mAttributeError\u001b[0m: 'Series' object has no attribute 'p2'"
     ]
    }
   ],
   "source": [
    "from sklearn.metrics import roc_auc_score\n",
    "\n",
    "prob_xgb_p2 = [p[0] for p in y_pred_proba_val_claimNumber]\n",
    "prob_xgb_one = [p[1] for p in y_pred_proba_val_claimNumber]\n",
    "prob_xgb_zero = [p[2] for p in y_pred_proba_val_claimNumber]\n",
    "# Ground Truth in a dataframe\n",
    "y_GT_p2 = np.array(y_val_claimNumber.p2)\n",
    "y_GT_one = np.array(y_val_claimNumber.un)\n",
    "y_GT_zero = np.array(y_val_claimNumber.zero)\n",
    "\n",
    "print(f\"ROC score on validation set for claimNumber = p2: {roc_auc_score(y_GT_p2, prob_xgb_p2)}\")\n",
    "print(f\"ROC score on validation set for claimNumber = one: {roc_auc_score(y_GT_one, prob_xgb_one)}\")\n",
    "print(f\"ROC score on validation set for claimNumber = zero: {roc_auc_score(y_GT_zero, prob_xgb_zero)}\")"
   ]
  },
  {
   "cell_type": "code",
   "execution_count": null,
   "metadata": {},
   "outputs": [],
   "source": []
  }
 ],
 "metadata": {
  "kernelspec": {
   "display_name": "Python 3",
   "language": "python",
   "name": "python3"
  },
  "language_info": {
   "codemirror_mode": {
    "name": "ipython",
    "version": 3
   },
   "file_extension": ".py",
   "mimetype": "text/x-python",
   "name": "python",
   "nbconvert_exporter": "python",
   "pygments_lexer": "ipython3",
   "version": "3.9.7 (tags/v3.9.7:1016ef3, Aug 30 2021, 20:19:38) [MSC v.1929 64 bit (AMD64)]"
  },
  "orig_nbformat": 4,
  "vscode": {
   "interpreter": {
    "hash": "8f8cf99212f81ad0c4765861267244807ee1c18364846cdce387b28994a977ba"
   }
  }
 },
 "nbformat": 4,
 "nbformat_minor": 2
}
