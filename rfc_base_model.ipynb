{
 "cells": [
  {
   "cell_type": "code",
   "execution_count": 1,
   "metadata": {},
   "outputs": [],
   "source": [
    "SEED = 42"
   ]
  },
  {
   "cell_type": "code",
   "execution_count": 10,
   "metadata": {},
   "outputs": [],
   "source": [
    "import pandas as pd\n",
    "import numpy as np\n",
    "import matplotlib.pyplot as plt\n",
    "import seaborn as sns\n",
    "\n",
    "from sklearn.ensemble import RandomForestClassifier, RandomForestRegressor\n",
    "from sklearn.metrics import classification_report, confusion_matrix\n",
    "from sklearn.model_selection import RandomizedSearchCV\n",
    "from sklearn.utils import shuffle"
   ]
  },
  {
   "cell_type": "code",
   "execution_count": 3,
   "metadata": {},
   "outputs": [
    {
     "data": {
      "text/html": [
       "<div>\n",
       "<style scoped>\n",
       "    .dataframe tbody tr th:only-of-type {\n",
       "        vertical-align: middle;\n",
       "    }\n",
       "\n",
       "    .dataframe tbody tr th {\n",
       "        vertical-align: top;\n",
       "    }\n",
       "\n",
       "    .dataframe thead th {\n",
       "        text-align: right;\n",
       "    }\n",
       "</style>\n",
       "<table border=\"1\" class=\"dataframe\">\n",
       "  <thead>\n",
       "    <tr style=\"text-align: right;\">\n",
       "      <th></th>\n",
       "      <th>Unnamed: 0</th>\n",
       "      <th>id</th>\n",
       "      <th>gender</th>\n",
       "      <th>carType</th>\n",
       "      <th>carCategory</th>\n",
       "      <th>occupation</th>\n",
       "      <th>age</th>\n",
       "      <th>carGroup</th>\n",
       "      <th>bonus</th>\n",
       "      <th>carValue</th>\n",
       "      <th>...</th>\n",
       "      <th>claimValue</th>\n",
       "      <th>catAge</th>\n",
       "      <th>catClaims</th>\n",
       "      <th>catDensity</th>\n",
       "      <th>catClaimNumber</th>\n",
       "      <th>catExposure</th>\n",
       "      <th>catCarValue</th>\n",
       "      <th>ClaimValueExp</th>\n",
       "      <th>ClaimNumberExp</th>\n",
       "      <th>ClaimNumberExpArrondie</th>\n",
       "    </tr>\n",
       "  </thead>\n",
       "  <tbody>\n",
       "    <tr>\n",
       "      <th>0</th>\n",
       "      <td>1</td>\n",
       "      <td>1</td>\n",
       "      <td>Female</td>\n",
       "      <td>A</td>\n",
       "      <td>Small</td>\n",
       "      <td>Unemployed</td>\n",
       "      <td>20</td>\n",
       "      <td>10</td>\n",
       "      <td>-10</td>\n",
       "      <td>24355</td>\n",
       "      <td>...</td>\n",
       "      <td>0.0</td>\n",
       "      <td>u25</td>\n",
       "      <td>u500</td>\n",
       "      <td>u175</td>\n",
       "      <td>zero</td>\n",
       "      <td>91-364</td>\n",
       "      <td>0-32000</td>\n",
       "      <td>0.0</td>\n",
       "      <td>0.0</td>\n",
       "      <td>0</td>\n",
       "    </tr>\n",
       "    <tr>\n",
       "      <th>1</th>\n",
       "      <td>2</td>\n",
       "      <td>2</td>\n",
       "      <td>Male</td>\n",
       "      <td>E</td>\n",
       "      <td>Small</td>\n",
       "      <td>Employed</td>\n",
       "      <td>35</td>\n",
       "      <td>12</td>\n",
       "      <td>20</td>\n",
       "      <td>6410</td>\n",
       "      <td>...</td>\n",
       "      <td>0.0</td>\n",
       "      <td>u50</td>\n",
       "      <td>u500</td>\n",
       "      <td>u75</td>\n",
       "      <td>zero</td>\n",
       "      <td>365</td>\n",
       "      <td>0-32000</td>\n",
       "      <td>0.0</td>\n",
       "      <td>0.0</td>\n",
       "      <td>0</td>\n",
       "    </tr>\n",
       "    <tr>\n",
       "      <th>2</th>\n",
       "      <td>3</td>\n",
       "      <td>3</td>\n",
       "      <td>Female</td>\n",
       "      <td>D</td>\n",
       "      <td>Medium</td>\n",
       "      <td>Employed</td>\n",
       "      <td>31</td>\n",
       "      <td>8</td>\n",
       "      <td>130</td>\n",
       "      <td>18545</td>\n",
       "      <td>...</td>\n",
       "      <td>0.0</td>\n",
       "      <td>u32</td>\n",
       "      <td>u500</td>\n",
       "      <td>u75</td>\n",
       "      <td>zero</td>\n",
       "      <td>365</td>\n",
       "      <td>0-32000</td>\n",
       "      <td>0.0</td>\n",
       "      <td>0.0</td>\n",
       "      <td>0</td>\n",
       "    </tr>\n",
       "    <tr>\n",
       "      <th>3</th>\n",
       "      <td>4</td>\n",
       "      <td>4</td>\n",
       "      <td>Male</td>\n",
       "      <td>D</td>\n",
       "      <td>Large</td>\n",
       "      <td>Employed</td>\n",
       "      <td>29</td>\n",
       "      <td>13</td>\n",
       "      <td>-50</td>\n",
       "      <td>18015</td>\n",
       "      <td>...</td>\n",
       "      <td>0.0</td>\n",
       "      <td>u32</td>\n",
       "      <td>u500</td>\n",
       "      <td>p175</td>\n",
       "      <td>zero</td>\n",
       "      <td>91-364</td>\n",
       "      <td>0-32000</td>\n",
       "      <td>0.0</td>\n",
       "      <td>0.0</td>\n",
       "      <td>0</td>\n",
       "    </tr>\n",
       "    <tr>\n",
       "      <th>4</th>\n",
       "      <td>5</td>\n",
       "      <td>5</td>\n",
       "      <td>Male</td>\n",
       "      <td>B</td>\n",
       "      <td>Medium</td>\n",
       "      <td>Self-employed</td>\n",
       "      <td>33</td>\n",
       "      <td>11</td>\n",
       "      <td>150</td>\n",
       "      <td>12325</td>\n",
       "      <td>...</td>\n",
       "      <td>0.0</td>\n",
       "      <td>u50</td>\n",
       "      <td>u500</td>\n",
       "      <td>u75</td>\n",
       "      <td>zero</td>\n",
       "      <td>91-364</td>\n",
       "      <td>0-32000</td>\n",
       "      <td>0.0</td>\n",
       "      <td>0.0</td>\n",
       "      <td>0</td>\n",
       "    </tr>\n",
       "  </tbody>\n",
       "</table>\n",
       "<p>5 rows × 26 columns</p>\n",
       "</div>"
      ],
      "text/plain": [
       "   Unnamed: 0  id  gender carType carCategory     occupation  age  carGroup  \\\n",
       "0           1   1  Female       A       Small     Unemployed   20        10   \n",
       "1           2   2    Male       E       Small       Employed   35        12   \n",
       "2           3   3  Female       D      Medium       Employed   31         8   \n",
       "3           4   4    Male       D       Large       Employed   29        13   \n",
       "4           5   5    Male       B      Medium  Self-employed   33        11   \n",
       "\n",
       "   bonus  carValue  ...  claimValue catAge catClaims  catDensity  \\\n",
       "0    -10     24355  ...         0.0    u25      u500        u175   \n",
       "1     20      6410  ...         0.0    u50      u500         u75   \n",
       "2    130     18545  ...         0.0    u32      u500         u75   \n",
       "3    -50     18015  ...         0.0    u32      u500        p175   \n",
       "4    150     12325  ...         0.0    u50      u500         u75   \n",
       "\n",
       "   catClaimNumber  catExposure  catCarValue ClaimValueExp ClaimNumberExp  \\\n",
       "0            zero       91-364      0-32000           0.0            0.0   \n",
       "1            zero          365      0-32000           0.0            0.0   \n",
       "2            zero          365      0-32000           0.0            0.0   \n",
       "3            zero       91-364      0-32000           0.0            0.0   \n",
       "4            zero       91-364      0-32000           0.0            0.0   \n",
       "\n",
       "  ClaimNumberExpArrondie  \n",
       "0                      0  \n",
       "1                      0  \n",
       "2                      0  \n",
       "3                      0  \n",
       "4                      0  \n",
       "\n",
       "[5 rows x 26 columns]"
      ]
     },
     "execution_count": 3,
     "metadata": {},
     "output_type": "execute_result"
    }
   ],
   "source": [
    "df_train = pd.read_csv(\"dataTrain_13_EXP_av37.csv\")\n",
    "df_test = pd.read_csv(\"test.csv\")\n",
    "df_train.head()"
   ]
  },
  {
   "cell_type": "code",
   "execution_count": 5,
   "metadata": {},
   "outputs": [
    {
     "data": {
      "text/plain": [
       "Index(['id', 'gender', 'carType', 'carCategory', 'occupation', 'age',\n",
       "       'carGroup', 'bonus', 'carValue', 'material', 'subRegion', 'region',\n",
       "       'cityDensity', 'catClaimNumber', 'claimValue'],\n",
       "      dtype='object')"
      ]
     },
     "execution_count": 5,
     "metadata": {},
     "output_type": "execute_result"
    }
   ],
   "source": [
    "df_train = df_train[df_test.columns.tolist() + ['catClaimNumber', 'claimValue'] ]\n",
    "df_train.columns"
   ]
  },
  {
   "attachments": {},
   "cell_type": "markdown",
   "metadata": {},
   "source": [
    "# I - Predict Claim Number Class Probabilities"
   ]
  },
  {
   "cell_type": "code",
   "execution_count": 6,
   "metadata": {},
   "outputs": [],
   "source": [
    "df_train = shuffle(df_train, random_state=SEED)\n",
    "\n",
    "X_train_claimNumber = df_train[:50000].drop(columns=['id', 'claimValue', 'catClaimNumber'])\n",
    "X_train_claimValue = df_train[:50000].drop(columns=['id', 'claimValue'])\n",
    "X_train_ids = df_train[:50000]['id']\n",
    "y_train_claimNumber = df_train[:50000]['catClaimNumber']\n",
    "y_train_claimValue = df_train[:50000]['claimValue']\n",
    "\n",
    "X_val_claimNumber = df_train[50000:].drop(columns=['id', 'claimValue', 'catClaimNumber'])\n",
    "X_val_claimValue = df_train[50000:].drop(columns=['id', 'claimValue'])\n",
    "X_val_ids = df_train[50000:]['id']\n",
    "y_val_claimNumber = df_train[50000:]['catClaimNumber']\n",
    "y_val_claimValue = df_train[50000:]['claimValue']"
   ]
  },
  {
   "cell_type": "code",
   "execution_count": 7,
   "metadata": {},
   "outputs": [],
   "source": [
    "X_train_claimNumber, X_val_claimNumber = pd.get_dummies(X_train_claimNumber), pd.get_dummies(X_val_claimNumber)\n",
    "X_train_claimValue, X_val_claimValue = pd.get_dummies(X_train_claimValue), pd.get_dummies(X_val_claimValue)"
   ]
  },
  {
   "attachments": {},
   "cell_type": "markdown",
   "metadata": {},
   "source": [
    "We will use preloaded predictions performed on another notebook"
   ]
  },
  {
   "attachments": {},
   "cell_type": "markdown",
   "metadata": {},
   "source": [
    "Let's load a simple random forest classifier w/ params n_estimators=1000 and max_depth=8"
   ]
  },
  {
   "cell_type": "code",
   "execution_count": 8,
   "metadata": {},
   "outputs": [],
   "source": [
    "rfc_claimNumber = np.load(\"models/claimNumber/rfc_1000_8_proba_val.npy\")"
   ]
  },
  {
   "attachments": {},
   "cell_type": "markdown",
   "metadata": {},
   "source": [
    "# II - Regression"
   ]
  },
  {
   "cell_type": "code",
   "execution_count": 11,
   "metadata": {},
   "outputs": [],
   "source": [
    "rfr = RandomForestRegressor(n_estimators=1000, random_state=SEED, max_depth=6, verbose=1)"
   ]
  },
  {
   "cell_type": "code",
   "execution_count": 12,
   "metadata": {},
   "outputs": [
    {
     "name": "stderr",
     "output_type": "stream",
     "text": [
      "[Parallel(n_jobs=1)]: Using backend SequentialBackend with 1 concurrent workers.\n",
      "[Parallel(n_jobs=1)]: Done 1000 out of 1000 | elapsed:  7.3min finished\n"
     ]
    },
    {
     "data": {
      "text/plain": [
       "RandomForestRegressor(max_depth=6, n_estimators=1000, random_state=42,\n",
       "                      verbose=1)"
      ]
     },
     "execution_count": 12,
     "metadata": {},
     "output_type": "execute_result"
    }
   ],
   "source": [
    "rfr.fit(X_train_claimValue, y_train_claimValue)"
   ]
  },
  {
   "cell_type": "code",
   "execution_count": 13,
   "metadata": {},
   "outputs": [
    {
     "name": "stderr",
     "output_type": "stream",
     "text": [
      "[Parallel(n_jobs=1)]: Using backend SequentialBackend with 1 concurrent workers.\n",
      "[Parallel(n_jobs=1)]: Done 1000 out of 1000 | elapsed:    1.3s finished\n"
     ]
    }
   ],
   "source": [
    "y_pred_claimValue = rfr.predict(X_val_claimValue)"
   ]
  },
  {
   "cell_type": "code",
   "execution_count": 18,
   "metadata": {},
   "outputs": [
    {
     "data": {
      "text/plain": [
       "array([   0.        ,    0.        ,    0.        , 1445.39641061,\n",
       "          0.        ,    0.        ,    0.        ,    0.        ,\n",
       "          0.        ,    0.        ])"
      ]
     },
     "execution_count": 18,
     "metadata": {},
     "output_type": "execute_result"
    }
   ],
   "source": [
    "y_pred_claimValue[:10]"
   ]
  },
  {
   "cell_type": "code",
   "execution_count": 17,
   "metadata": {},
   "outputs": [
    {
     "data": {
      "text/plain": [
       "3675        0.000\n",
       "15450       0.000\n",
       "20608       0.000\n",
       "46531    2472.103\n",
       "6749        0.000\n",
       "32888       0.000\n",
       "6794        0.000\n",
       "53241       0.000\n",
       "20612       0.000\n",
       "38347       0.000\n",
       "Name: claimValue, dtype: float64"
      ]
     },
     "execution_count": 17,
     "metadata": {},
     "output_type": "execute_result"
    }
   ],
   "source": [
    "y_val_claimValue[:10]"
   ]
  },
  {
   "cell_type": "code",
   "execution_count": 21,
   "metadata": {},
   "outputs": [],
   "source": [
    "y_pred_pandas = pd.DataFrame({\"prediction\": y_pred_claimValue, \"groundTruth\": y_val_claimValue.values}, index=y_val_claimValue.index)"
   ]
  },
  {
   "cell_type": "code",
   "execution_count": 22,
   "metadata": {},
   "outputs": [
    {
     "data": {
      "text/html": [
       "<div>\n",
       "<style scoped>\n",
       "    .dataframe tbody tr th:only-of-type {\n",
       "        vertical-align: middle;\n",
       "    }\n",
       "\n",
       "    .dataframe tbody tr th {\n",
       "        vertical-align: top;\n",
       "    }\n",
       "\n",
       "    .dataframe thead th {\n",
       "        text-align: right;\n",
       "    }\n",
       "</style>\n",
       "<table border=\"1\" class=\"dataframe\">\n",
       "  <thead>\n",
       "    <tr style=\"text-align: right;\">\n",
       "      <th></th>\n",
       "      <th>prediction</th>\n",
       "      <th>groundTruth</th>\n",
       "    </tr>\n",
       "  </thead>\n",
       "  <tbody>\n",
       "    <tr>\n",
       "      <th>3675</th>\n",
       "      <td>0.000000</td>\n",
       "      <td>0.0000</td>\n",
       "    </tr>\n",
       "    <tr>\n",
       "      <th>15450</th>\n",
       "      <td>0.000000</td>\n",
       "      <td>0.0000</td>\n",
       "    </tr>\n",
       "    <tr>\n",
       "      <th>20608</th>\n",
       "      <td>0.000000</td>\n",
       "      <td>0.0000</td>\n",
       "    </tr>\n",
       "    <tr>\n",
       "      <th>46531</th>\n",
       "      <td>1445.396411</td>\n",
       "      <td>2472.1030</td>\n",
       "    </tr>\n",
       "    <tr>\n",
       "      <th>6749</th>\n",
       "      <td>0.000000</td>\n",
       "      <td>0.0000</td>\n",
       "    </tr>\n",
       "    <tr>\n",
       "      <th>32888</th>\n",
       "      <td>0.000000</td>\n",
       "      <td>0.0000</td>\n",
       "    </tr>\n",
       "    <tr>\n",
       "      <th>6794</th>\n",
       "      <td>0.000000</td>\n",
       "      <td>0.0000</td>\n",
       "    </tr>\n",
       "    <tr>\n",
       "      <th>53241</th>\n",
       "      <td>0.000000</td>\n",
       "      <td>0.0000</td>\n",
       "    </tr>\n",
       "    <tr>\n",
       "      <th>20612</th>\n",
       "      <td>0.000000</td>\n",
       "      <td>0.0000</td>\n",
       "    </tr>\n",
       "    <tr>\n",
       "      <th>38347</th>\n",
       "      <td>0.000000</td>\n",
       "      <td>0.0000</td>\n",
       "    </tr>\n",
       "    <tr>\n",
       "      <th>46451</th>\n",
       "      <td>1447.525679</td>\n",
       "      <td>776.9824</td>\n",
       "    </tr>\n",
       "    <tr>\n",
       "      <th>328</th>\n",
       "      <td>0.000000</td>\n",
       "      <td>0.0000</td>\n",
       "    </tr>\n",
       "    <tr>\n",
       "      <th>4710</th>\n",
       "      <td>0.000000</td>\n",
       "      <td>0.0000</td>\n",
       "    </tr>\n",
       "    <tr>\n",
       "      <th>19665</th>\n",
       "      <td>1404.482071</td>\n",
       "      <td>131.7998</td>\n",
       "    </tr>\n",
       "    <tr>\n",
       "      <th>2370</th>\n",
       "      <td>1471.526291</td>\n",
       "      <td>1071.8530</td>\n",
       "    </tr>\n",
       "  </tbody>\n",
       "</table>\n",
       "</div>"
      ],
      "text/plain": [
       "        prediction  groundTruth\n",
       "3675      0.000000       0.0000\n",
       "15450     0.000000       0.0000\n",
       "20608     0.000000       0.0000\n",
       "46531  1445.396411    2472.1030\n",
       "6749      0.000000       0.0000\n",
       "32888     0.000000       0.0000\n",
       "6794      0.000000       0.0000\n",
       "53241     0.000000       0.0000\n",
       "20612     0.000000       0.0000\n",
       "38347     0.000000       0.0000\n",
       "46451  1447.525679     776.9824\n",
       "328       0.000000       0.0000\n",
       "4710      0.000000       0.0000\n",
       "19665  1404.482071     131.7998\n",
       "2370   1471.526291    1071.8530"
      ]
     },
     "execution_count": 22,
     "metadata": {},
     "output_type": "execute_result"
    }
   ],
   "source": [
    "y_pred_pandas[:15]"
   ]
  },
  {
   "cell_type": "code",
   "execution_count": 35,
   "metadata": {},
   "outputs": [
    {
     "data": {
      "text/plain": [
       "<AxesSubplot:xlabel='index', ylabel='groundTruth'>"
      ]
     },
     "execution_count": 35,
     "metadata": {},
     "output_type": "execute_result"
    },
    {
     "data": {
      "image/png": "[encoded data removed]",
      "text/plain": [
       "<Figure size 432x288 with 1 Axes>"
      ]
     },
     "metadata": {
      "needs_background": "light"
     },
     "output_type": "display_data"
    }
   ],
   "source": [
    "ax = y_pred_pandas.reset_index().plot(kind=\"scatter\", x=\"index\", y=\"prediction\", color=\"green\")\n",
    "y_pred_pandas.reset_index().plot(kind=\"scatter\", x=\"index\", y=\"groundTruth\", color='r', ax=ax, alpha=.1)"
   ]
  },
  {
   "attachments": {},
   "cell_type": "markdown",
   "metadata": {},
   "source": [
    "Notre modèle n'arrive pas à différencier les comportements et donne donc la moyenne"
   ]
  },
  {
   "cell_type": "code",
   "execution_count": 36,
   "metadata": {},
   "outputs": [
    {
     "data": {
      "image/png": "[encoded data removed]",
      "text/plain": [
       "<Figure size 432x288 with 1 Axes>"
      ]
     },
     "metadata": {
      "needs_background": "light"
     },
     "output_type": "display_data"
    }
   ],
   "source": [
    "# Organizing feature names and importances in a DataFrame\n",
    "features_df = pd.DataFrame({'features': rfr.feature_names_in_, 'importances': rfr.feature_importances_ })\n",
    "\n",
    "# Sorting data from highest to lowest\n",
    "features_df_sorted = features_df.sort_values(by='importances', ascending=False)[:15]\n",
    "\n",
    "# Barplot of the result without borders and axis lines\n",
    "g = sns.barplot(data=features_df_sorted, x='importances', y ='features', palette=\"rocket\")\n",
    "sns.despine(bottom = True, left = True)\n",
    "g.set_title('Feature importances')\n",
    "g.set(xlabel=None)\n",
    "g.set(ylabel=None)\n",
    "g.set(xticks=[])\n",
    "for value in g.containers:\n",
    "    g.bar_label(value, padding=2)"
   ]
  },
  {
   "cell_type": "code",
   "execution_count": 39,
   "metadata": {},
   "outputs": [],
   "source": [
    "import matplotlib.pyplot as plt\n",
    "from sklearn.metrics import mean_squared_error\n",
    "\n",
    "def plot_learning_curves(model, X_train, X_val, y_train, y_val):\n",
    "    \"\"\" Plot the learning curves of the training set and the validation set for the given model.\n",
    "    \"\"\"\n",
    "    train_errors, val_errors = [], []\n",
    "    for m in range(100, X_train.shape[0] + 1, 5000):\n",
    "        model.fit(X_train[:m], y_train[:m])\n",
    "        y_train_predict = model.predict(X_train[:m])\n",
    "        y_val_predict = model.predict(X_val)\n",
    "        train_errors.append(mean_squared_error(y_train[:m], y_train_predict))\n",
    "        val_errors.append(mean_squared_error(y_val, y_val_predict))\n",
    "    \n",
    "    plt.plot(train_errors, 'r-+', linewidth=2, label='train')\n",
    "    plt.plot(val_errors, 'b-', linewidth=3, label='val')\n",
    "    plt.legend(loc=\"upper right\")\n",
    "    plt.xlabel(\"Training set size\")\n",
    "    plt.ylabel(\"MSE loss\")"
   ]
  },
  {
   "cell_type": "code",
   "execution_count": 40,
   "metadata": {},
   "outputs": [
    {
     "name": "stderr",
     "output_type": "stream",
     "text": [
      "[Parallel(n_jobs=1)]: Using backend SequentialBackend with 1 concurrent workers.\n",
      "[Parallel(n_jobs=1)]: Done 1000 out of 1000 | elapsed:    1.4s finished\n",
      "[Parallel(n_jobs=1)]: Using backend SequentialBackend with 1 concurrent workers.\n",
      "[Parallel(n_jobs=1)]: Done 1000 out of 1000 | elapsed:    0.0s finished\n",
      "[Parallel(n_jobs=1)]: Using backend SequentialBackend with 1 concurrent workers.\n",
      "[Parallel(n_jobs=1)]: Done 1000 out of 1000 | elapsed:    0.5s finished\n",
      "[Parallel(n_jobs=1)]: Using backend SequentialBackend with 1 concurrent workers.\n",
      "[Parallel(n_jobs=1)]: Done 1000 out of 1000 | elapsed:   38.4s finished\n",
      "[Parallel(n_jobs=1)]: Using backend SequentialBackend with 1 concurrent workers.\n",
      "[Parallel(n_jobs=1)]: Done 1000 out of 1000 | elapsed:    0.1s finished\n",
      "[Parallel(n_jobs=1)]: Using backend SequentialBackend with 1 concurrent workers.\n",
      "[Parallel(n_jobs=1)]: Done 1000 out of 1000 | elapsed:    0.3s finished\n",
      "[Parallel(n_jobs=1)]: Using backend SequentialBackend with 1 concurrent workers.\n",
      "[Parallel(n_jobs=1)]: Done 1000 out of 1000 | elapsed:  1.4min finished\n",
      "[Parallel(n_jobs=1)]: Using backend SequentialBackend with 1 concurrent workers.\n",
      "[Parallel(n_jobs=1)]: Done 1000 out of 1000 | elapsed:    0.3s finished\n",
      "[Parallel(n_jobs=1)]: Using backend SequentialBackend with 1 concurrent workers.\n",
      "[Parallel(n_jobs=1)]: Done 1000 out of 1000 | elapsed:    0.3s finished\n",
      "[Parallel(n_jobs=1)]: Using backend SequentialBackend with 1 concurrent workers.\n",
      "[Parallel(n_jobs=1)]: Done 1000 out of 1000 | elapsed:  2.5min finished\n",
      "[Parallel(n_jobs=1)]: Using backend SequentialBackend with 1 concurrent workers.\n",
      "[Parallel(n_jobs=1)]: Done 1000 out of 1000 | elapsed:    0.4s finished\n",
      "[Parallel(n_jobs=1)]: Using backend SequentialBackend with 1 concurrent workers.\n",
      "[Parallel(n_jobs=1)]: Done 1000 out of 1000 | elapsed:    0.2s finished\n",
      "[Parallel(n_jobs=1)]: Using backend SequentialBackend with 1 concurrent workers.\n",
      "[Parallel(n_jobs=1)]: Done 1000 out of 1000 | elapsed:  2.6min finished\n",
      "[Parallel(n_jobs=1)]: Using backend SequentialBackend with 1 concurrent workers.\n",
      "[Parallel(n_jobs=1)]: Done 1000 out of 1000 | elapsed:    0.5s finished\n",
      "[Parallel(n_jobs=1)]: Using backend SequentialBackend with 1 concurrent workers.\n",
      "[Parallel(n_jobs=1)]: Done 1000 out of 1000 | elapsed:    0.3s finished\n",
      "[Parallel(n_jobs=1)]: Using backend SequentialBackend with 1 concurrent workers.\n",
      "[Parallel(n_jobs=1)]: Done 1000 out of 1000 | elapsed:  3.0min finished\n",
      "[Parallel(n_jobs=1)]: Using backend SequentialBackend with 1 concurrent workers.\n",
      "[Parallel(n_jobs=1)]: Done 1000 out of 1000 | elapsed:    0.4s finished\n",
      "[Parallel(n_jobs=1)]: Using backend SequentialBackend with 1 concurrent workers.\n",
      "[Parallel(n_jobs=1)]: Done 1000 out of 1000 | elapsed:    0.2s finished\n",
      "[Parallel(n_jobs=1)]: Using backend SequentialBackend with 1 concurrent workers.\n",
      "[Parallel(n_jobs=1)]: Done 1000 out of 1000 | elapsed:  3.7min finished\n",
      "[Parallel(n_jobs=1)]: Using backend SequentialBackend with 1 concurrent workers.\n",
      "[Parallel(n_jobs=1)]: Done 1000 out of 1000 | elapsed:    0.6s finished\n",
      "[Parallel(n_jobs=1)]: Using backend SequentialBackend with 1 concurrent workers.\n",
      "[Parallel(n_jobs=1)]: Done 1000 out of 1000 | elapsed:    0.2s finished\n",
      "[Parallel(n_jobs=1)]: Using backend SequentialBackend with 1 concurrent workers.\n",
      "[Parallel(n_jobs=1)]: Done 1000 out of 1000 | elapsed:  4.1min finished\n",
      "[Parallel(n_jobs=1)]: Using backend SequentialBackend with 1 concurrent workers.\n",
      "[Parallel(n_jobs=1)]: Done 1000 out of 1000 | elapsed:    0.9s finished\n",
      "[Parallel(n_jobs=1)]: Using backend SequentialBackend with 1 concurrent workers.\n",
      "[Parallel(n_jobs=1)]: Done 1000 out of 1000 | elapsed:    0.2s finished\n",
      "[Parallel(n_jobs=1)]: Using backend SequentialBackend with 1 concurrent workers.\n",
      "[Parallel(n_jobs=1)]: Done 1000 out of 1000 | elapsed:  4.7min finished\n",
      "[Parallel(n_jobs=1)]: Using backend SequentialBackend with 1 concurrent workers.\n",
      "[Parallel(n_jobs=1)]: Done 1000 out of 1000 | elapsed:    1.2s finished\n",
      "[Parallel(n_jobs=1)]: Using backend SequentialBackend with 1 concurrent workers.\n",
      "[Parallel(n_jobs=1)]: Done 1000 out of 1000 | elapsed:    0.3s finished\n",
      "[Parallel(n_jobs=1)]: Using backend SequentialBackend with 1 concurrent workers.\n",
      "[Parallel(n_jobs=1)]: Done 1000 out of 1000 | elapsed:  6.6min finished\n",
      "[Parallel(n_jobs=1)]: Using backend SequentialBackend with 1 concurrent workers.\n",
      "[Parallel(n_jobs=1)]: Done 1000 out of 1000 | elapsed:    0.9s finished\n",
      "[Parallel(n_jobs=1)]: Using backend SequentialBackend with 1 concurrent workers.\n",
      "[Parallel(n_jobs=1)]: Done 1000 out of 1000 | elapsed:    0.2s finished\n"
     ]
    },
    {
     "data": {
      "image/png": "[encoded data removed]",
      "text/plain": [
       "<Figure size 432x288 with 1 Axes>"
      ]
     },
     "metadata": {
      "needs_background": "light"
     },
     "output_type": "display_data"
    }
   ],
   "source": [
    "plot_learning_curves(rfr, X_train_claimValue, X_val_claimValue, y_train_claimValue, y_val_claimValue)\n",
    "plt.show()"
   ]
  },
  {
   "attachments": {},
   "cell_type": "markdown",
   "metadata": {},
   "source": [
    "Underfit"
   ]
  },
  {
   "cell_type": "code",
   "execution_count": null,
   "metadata": {},
   "outputs": [],
   "source": []
  }
 ],
 "metadata": {
  "kernelspec": {
   "display_name": "Python 3",
   "language": "python",
   "name": "python3"
  },
  "language_info": {
   "codemirror_mode": {
    "name": "ipython",
    "version": 3
   },
   "file_extension": ".py",
   "mimetype": "text/x-python",
   "name": "python",
   "nbconvert_exporter": "python",
   "pygments_lexer": "ipython3",
   "version": "3.9.7 (tags/v3.9.7:1016ef3, Aug 30 2021, 20:19:38) [MSC v.1929 64 bit (AMD64)]"
  },
  "orig_nbformat": 4,
  "vscode": {
   "interpreter": {
    "hash": "8f8cf99212f81ad0c4765861267244807ee1c18364846cdce387b28994a977ba"
   }
  }
 },
 "nbformat": 4,
 "nbformat_minor": 2
}
