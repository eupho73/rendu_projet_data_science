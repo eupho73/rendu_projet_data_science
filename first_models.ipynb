{
 "cells": [
  {
   "cell_type": "code",
   "execution_count": 6,
   "metadata": {},
   "outputs": [],
   "source": [
    "SEED = 42"
   ]
  },
  {
   "cell_type": "code",
   "execution_count": 2,
   "metadata": {},
   "outputs": [],
   "source": [
    "import pandas as pd\n",
    "import numpy as np\n",
    "import matplotlib.pyplot as plt\n",
    "import seaborn as sns\n",
    "\n",
    "from sklearn.ensemble import RandomForestClassifier\n",
    "from sklearn.metrics import classification_report, confusion_matrix\n",
    "from sklearn.model_selection import RandomizedSearchCV\n",
    "from sklearn.utils import shuffle"
   ]
  },
  {
   "cell_type": "code",
   "execution_count": 3,
   "metadata": {},
   "outputs": [
    {
     "data": {
      "text/html": [
       "<div>\n",
       "<style scoped>\n",
       "    .dataframe tbody tr th:only-of-type {\n",
       "        vertical-align: middle;\n",
       "    }\n",
       "\n",
       "    .dataframe tbody tr th {\n",
       "        vertical-align: top;\n",
       "    }\n",
       "\n",
       "    .dataframe thead th {\n",
       "        text-align: right;\n",
       "    }\n",
       "</style>\n",
       "<table border=\"1\" class=\"dataframe\">\n",
       "  <thead>\n",
       "    <tr style=\"text-align: right;\">\n",
       "      <th></th>\n",
       "      <th>Unnamed: 0</th>\n",
       "      <th>id</th>\n",
       "      <th>gender</th>\n",
       "      <th>carType</th>\n",
       "      <th>carCategory</th>\n",
       "      <th>occupation</th>\n",
       "      <th>age</th>\n",
       "      <th>carGroup</th>\n",
       "      <th>bonus</th>\n",
       "      <th>carValue</th>\n",
       "      <th>...</th>\n",
       "      <th>claimValue</th>\n",
       "      <th>catAge</th>\n",
       "      <th>catClaims</th>\n",
       "      <th>catDensity</th>\n",
       "      <th>catClaimNumber</th>\n",
       "      <th>catExposure</th>\n",
       "      <th>catCarValue</th>\n",
       "      <th>ClaimValueExp</th>\n",
       "      <th>ClaimNumberExp</th>\n",
       "      <th>ClaimNumberExpArrondie</th>\n",
       "    </tr>\n",
       "  </thead>\n",
       "  <tbody>\n",
       "    <tr>\n",
       "      <th>0</th>\n",
       "      <td>1</td>\n",
       "      <td>1</td>\n",
       "      <td>Female</td>\n",
       "      <td>A</td>\n",
       "      <td>Small</td>\n",
       "      <td>Unemployed</td>\n",
       "      <td>20</td>\n",
       "      <td>10</td>\n",
       "      <td>-10</td>\n",
       "      <td>24355</td>\n",
       "      <td>...</td>\n",
       "      <td>0.0</td>\n",
       "      <td>u25</td>\n",
       "      <td>u500</td>\n",
       "      <td>u175</td>\n",
       "      <td>zero</td>\n",
       "      <td>91-364</td>\n",
       "      <td>0-32000</td>\n",
       "      <td>0.0</td>\n",
       "      <td>0.0</td>\n",
       "      <td>0</td>\n",
       "    </tr>\n",
       "    <tr>\n",
       "      <th>1</th>\n",
       "      <td>2</td>\n",
       "      <td>2</td>\n",
       "      <td>Male</td>\n",
       "      <td>E</td>\n",
       "      <td>Small</td>\n",
       "      <td>Employed</td>\n",
       "      <td>35</td>\n",
       "      <td>12</td>\n",
       "      <td>20</td>\n",
       "      <td>6410</td>\n",
       "      <td>...</td>\n",
       "      <td>0.0</td>\n",
       "      <td>u50</td>\n",
       "      <td>u500</td>\n",
       "      <td>u75</td>\n",
       "      <td>zero</td>\n",
       "      <td>365</td>\n",
       "      <td>0-32000</td>\n",
       "      <td>0.0</td>\n",
       "      <td>0.0</td>\n",
       "      <td>0</td>\n",
       "    </tr>\n",
       "    <tr>\n",
       "      <th>2</th>\n",
       "      <td>3</td>\n",
       "      <td>3</td>\n",
       "      <td>Female</td>\n",
       "      <td>D</td>\n",
       "      <td>Medium</td>\n",
       "      <td>Employed</td>\n",
       "      <td>31</td>\n",
       "      <td>8</td>\n",
       "      <td>130</td>\n",
       "      <td>18545</td>\n",
       "      <td>...</td>\n",
       "      <td>0.0</td>\n",
       "      <td>u32</td>\n",
       "      <td>u500</td>\n",
       "      <td>u75</td>\n",
       "      <td>zero</td>\n",
       "      <td>365</td>\n",
       "      <td>0-32000</td>\n",
       "      <td>0.0</td>\n",
       "      <td>0.0</td>\n",
       "      <td>0</td>\n",
       "    </tr>\n",
       "    <tr>\n",
       "      <th>3</th>\n",
       "      <td>4</td>\n",
       "      <td>4</td>\n",
       "      <td>Male</td>\n",
       "      <td>D</td>\n",
       "      <td>Large</td>\n",
       "      <td>Employed</td>\n",
       "      <td>29</td>\n",
       "      <td>13</td>\n",
       "      <td>-50</td>\n",
       "      <td>18015</td>\n",
       "      <td>...</td>\n",
       "      <td>0.0</td>\n",
       "      <td>u32</td>\n",
       "      <td>u500</td>\n",
       "      <td>p175</td>\n",
       "      <td>zero</td>\n",
       "      <td>91-364</td>\n",
       "      <td>0-32000</td>\n",
       "      <td>0.0</td>\n",
       "      <td>0.0</td>\n",
       "      <td>0</td>\n",
       "    </tr>\n",
       "    <tr>\n",
       "      <th>4</th>\n",
       "      <td>5</td>\n",
       "      <td>5</td>\n",
       "      <td>Male</td>\n",
       "      <td>B</td>\n",
       "      <td>Medium</td>\n",
       "      <td>Self-employed</td>\n",
       "      <td>33</td>\n",
       "      <td>11</td>\n",
       "      <td>150</td>\n",
       "      <td>12325</td>\n",
       "      <td>...</td>\n",
       "      <td>0.0</td>\n",
       "      <td>u50</td>\n",
       "      <td>u500</td>\n",
       "      <td>u75</td>\n",
       "      <td>zero</td>\n",
       "      <td>91-364</td>\n",
       "      <td>0-32000</td>\n",
       "      <td>0.0</td>\n",
       "      <td>0.0</td>\n",
       "      <td>0</td>\n",
       "    </tr>\n",
       "  </tbody>\n",
       "</table>\n",
       "<p>5 rows × 26 columns</p>\n",
       "</div>"
      ],
      "text/plain": [
       "   Unnamed: 0  id  gender carType carCategory     occupation  age  carGroup  \\\n",
       "0           1   1  Female       A       Small     Unemployed   20        10   \n",
       "1           2   2    Male       E       Small       Employed   35        12   \n",
       "2           3   3  Female       D      Medium       Employed   31         8   \n",
       "3           4   4    Male       D       Large       Employed   29        13   \n",
       "4           5   5    Male       B      Medium  Self-employed   33        11   \n",
       "\n",
       "   bonus  carValue  ...  claimValue catAge catClaims  catDensity  \\\n",
       "0    -10     24355  ...         0.0    u25      u500        u175   \n",
       "1     20      6410  ...         0.0    u50      u500         u75   \n",
       "2    130     18545  ...         0.0    u32      u500         u75   \n",
       "3    -50     18015  ...         0.0    u32      u500        p175   \n",
       "4    150     12325  ...         0.0    u50      u500         u75   \n",
       "\n",
       "   catClaimNumber  catExposure  catCarValue ClaimValueExp ClaimNumberExp  \\\n",
       "0            zero       91-364      0-32000           0.0            0.0   \n",
       "1            zero          365      0-32000           0.0            0.0   \n",
       "2            zero          365      0-32000           0.0            0.0   \n",
       "3            zero       91-364      0-32000           0.0            0.0   \n",
       "4            zero       91-364      0-32000           0.0            0.0   \n",
       "\n",
       "  ClaimNumberExpArrondie  \n",
       "0                      0  \n",
       "1                      0  \n",
       "2                      0  \n",
       "3                      0  \n",
       "4                      0  \n",
       "\n",
       "[5 rows x 26 columns]"
      ]
     },
     "execution_count": 3,
     "metadata": {},
     "output_type": "execute_result"
    }
   ],
   "source": [
    "df_train = pd.read_csv(\"dataTrain_13_EXP_av37.csv\")\n",
    "df_test = pd.read_csv(\"test.csv\")\n",
    "df_train.head()"
   ]
  },
  {
   "cell_type": "code",
   "execution_count": 3,
   "metadata": {},
   "outputs": [
    {
     "data": {
      "text/plain": [
       "Index(['Unnamed: 0', 'id', 'gender', 'carType', 'carCategory', 'occupation',\n",
       "       'age', 'carGroup', 'bonus', 'carValue', 'material', 'subRegion',\n",
       "       'region', 'cityDensity', 'exposure', 'claimNumber', 'claimValue',\n",
       "       'catAge', 'catClaims', 'catDensity', 'catClaimNumber', 'catExposure',\n",
       "       'catCarValue', 'ClaimValueExp', 'ClaimNumberExp',\n",
       "       'ClaimNumberExpArrondie'],\n",
       "      dtype='object')"
      ]
     },
     "execution_count": 3,
     "metadata": {},
     "output_type": "execute_result"
    }
   ],
   "source": [
    "df_train.columns"
   ]
  },
  {
   "cell_type": "code",
   "execution_count": 15,
   "metadata": {},
   "outputs": [
    {
     "data": {
      "text/plain": [
       "<matplotlib.collections.PathCollection at 0x22b18cf3d00>"
      ]
     },
     "execution_count": 15,
     "metadata": {},
     "output_type": "execute_result"
    },
    {
     "data": {
      "image/png": "[encoded data removed]",
      "text/plain": [
       "<Figure size 432x288 with 1 Axes>"
      ]
     },
     "metadata": {
      "needs_background": "light"
     },
     "output_type": "display_data"
    }
   ],
   "source": [
    "plt.scatter(df_train.exposure, df_train.claimValue)"
   ]
  },
  {
   "cell_type": "code",
   "execution_count": 16,
   "metadata": {},
   "outputs": [
    {
     "data": {
      "text/plain": [
       "<matplotlib.collections.PathCollection at 0x22b18d76190>"
      ]
     },
     "execution_count": 16,
     "metadata": {},
     "output_type": "execute_result"
    },
    {
     "data": {
      "image/png": "[encoded data removed]",
      "text/plain": [
       "<Figure size 432x288 with 1 Axes>"
      ]
     },
     "metadata": {
      "needs_background": "light"
     },
     "output_type": "display_data"
    }
   ],
   "source": [
    "plt.scatter(df_train.exposure, df_train.ClaimValueExp)"
   ]
  },
  {
   "attachments": {},
   "cell_type": "markdown",
   "metadata": {},
   "source": [
    "Désolé Arthur mais on va pas utiliser cette normalisation 🤣"
   ]
  },
  {
   "cell_type": "code",
   "execution_count": 6,
   "metadata": {},
   "outputs": [
    {
     "data": {
      "text/plain": [
       "Index(['id', 'gender', 'carType', 'carCategory', 'occupation', 'age',\n",
       "       'carGroup', 'bonus', 'carValue', 'material', 'subRegion', 'region',\n",
       "       'cityDensity'],\n",
       "      dtype='object')"
      ]
     },
     "execution_count": 6,
     "metadata": {},
     "output_type": "execute_result"
    }
   ],
   "source": [
    "df_test.columns"
   ]
  },
  {
   "attachments": {},
   "cell_type": "markdown",
   "metadata": {},
   "source": [
    "Seule la variable `exposure` n'existe pas."
   ]
  },
  {
   "attachments": {},
   "cell_type": "markdown",
   "metadata": {},
   "source": [
    "On créer notre validation set en prenant soin au préalable d'enlever toute les variables que l'on souhaite prédire."
   ]
  },
  {
   "cell_type": "code",
   "execution_count": 4,
   "metadata": {},
   "outputs": [
    {
     "data": {
      "text/plain": [
       "Index(['id', 'gender', 'carType', 'carCategory', 'occupation', 'age',\n",
       "       'carGroup', 'bonus', 'carValue', 'material', 'subRegion', 'region',\n",
       "       'cityDensity', 'catClaimNumber', 'claimValue'],\n",
       "      dtype='object')"
      ]
     },
     "execution_count": 4,
     "metadata": {},
     "output_type": "execute_result"
    }
   ],
   "source": [
    "df_train = df_train[df_test.columns.tolist() + ['catClaimNumber', 'claimValue'] ]\n",
    "df_train.columns"
   ]
  },
  {
   "cell_type": "code",
   "execution_count": 7,
   "metadata": {},
   "outputs": [],
   "source": [
    "df_train = shuffle(df_train, random_state=SEED)\n",
    "\n",
    "X_train = df_train[:50000].drop(columns=['id', 'claimValue', 'catClaimNumber'])\n",
    "X_train_ids = df_train[:50000]['id']\n",
    "y_train_claimNumber = df_train[:50000]['catClaimNumber']\n",
    "y_train_claimValue = df_train[:50000]['claimValue']\n",
    "\n",
    "X_val = df_train[50000:].drop(columns=['id', 'claimValue', 'catClaimNumber'])\n",
    "X_val_ids = df_train[50000:]['id']\n",
    "y_val_claimNumber = df_train[50000:]['catClaimNumber']\n",
    "y_val_claimValue = df_train[50000:]['claimValue']\n"
   ]
  },
  {
   "cell_type": "code",
   "execution_count": 34,
   "metadata": {},
   "outputs": [
    {
     "data": {
      "text/html": [
       "<div>\n",
       "<style scoped>\n",
       "    .dataframe tbody tr th:only-of-type {\n",
       "        vertical-align: middle;\n",
       "    }\n",
       "\n",
       "    .dataframe tbody tr th {\n",
       "        vertical-align: top;\n",
       "    }\n",
       "\n",
       "    .dataframe thead th {\n",
       "        text-align: right;\n",
       "    }\n",
       "</style>\n",
       "<table border=\"1\" class=\"dataframe\">\n",
       "  <thead>\n",
       "    <tr style=\"text-align: right;\">\n",
       "      <th></th>\n",
       "      <th>gender</th>\n",
       "      <th>carType</th>\n",
       "      <th>carCategory</th>\n",
       "      <th>occupation</th>\n",
       "      <th>age</th>\n",
       "      <th>carGroup</th>\n",
       "      <th>bonus</th>\n",
       "      <th>carValue</th>\n",
       "      <th>material</th>\n",
       "      <th>subRegion</th>\n",
       "      <th>region</th>\n",
       "      <th>cityDensity</th>\n",
       "    </tr>\n",
       "  </thead>\n",
       "  <tbody>\n",
       "    <tr>\n",
       "      <th>12628</th>\n",
       "      <td>Female</td>\n",
       "      <td>B</td>\n",
       "      <td>Medium</td>\n",
       "      <td>Self-employed</td>\n",
       "      <td>22</td>\n",
       "      <td>3</td>\n",
       "      <td>-20</td>\n",
       "      <td>15830</td>\n",
       "      <td>1</td>\n",
       "      <td>M4</td>\n",
       "      <td>M</td>\n",
       "      <td>190.05160</td>\n",
       "    </tr>\n",
       "    <tr>\n",
       "      <th>37730</th>\n",
       "      <td>Male</td>\n",
       "      <td>C</td>\n",
       "      <td>Large</td>\n",
       "      <td>Unemployed</td>\n",
       "      <td>63</td>\n",
       "      <td>5</td>\n",
       "      <td>-30</td>\n",
       "      <td>12675</td>\n",
       "      <td>1</td>\n",
       "      <td>Q45</td>\n",
       "      <td>Q</td>\n",
       "      <td>98.10373</td>\n",
       "    </tr>\n",
       "    <tr>\n",
       "      <th>39991</th>\n",
       "      <td>Male</td>\n",
       "      <td>B</td>\n",
       "      <td>Medium</td>\n",
       "      <td>Unemployed</td>\n",
       "      <td>37</td>\n",
       "      <td>13</td>\n",
       "      <td>60</td>\n",
       "      <td>15980</td>\n",
       "      <td>0</td>\n",
       "      <td>O17</td>\n",
       "      <td>O</td>\n",
       "      <td>24.11879</td>\n",
       "    </tr>\n",
       "    <tr>\n",
       "      <th>8525</th>\n",
       "      <td>Male</td>\n",
       "      <td>B</td>\n",
       "      <td>Medium</td>\n",
       "      <td>Unemployed</td>\n",
       "      <td>41</td>\n",
       "      <td>13</td>\n",
       "      <td>-40</td>\n",
       "      <td>15345</td>\n",
       "      <td>1</td>\n",
       "      <td>U8</td>\n",
       "      <td>U</td>\n",
       "      <td>125.13200</td>\n",
       "    </tr>\n",
       "    <tr>\n",
       "      <th>8279</th>\n",
       "      <td>Female</td>\n",
       "      <td>E</td>\n",
       "      <td>Large</td>\n",
       "      <td>Unemployed</td>\n",
       "      <td>22</td>\n",
       "      <td>9</td>\n",
       "      <td>60</td>\n",
       "      <td>16385</td>\n",
       "      <td>1</td>\n",
       "      <td>L36</td>\n",
       "      <td>L</td>\n",
       "      <td>58.59040</td>\n",
       "    </tr>\n",
       "  </tbody>\n",
       "</table>\n",
       "</div>"
      ],
      "text/plain": [
       "       gender carType carCategory     occupation  age  carGroup  bonus  \\\n",
       "12628  Female       B      Medium  Self-employed   22         3    -20   \n",
       "37730    Male       C       Large     Unemployed   63         5    -30   \n",
       "39991    Male       B      Medium     Unemployed   37        13     60   \n",
       "8525     Male       B      Medium     Unemployed   41        13    -40   \n",
       "8279   Female       E       Large     Unemployed   22         9     60   \n",
       "\n",
       "       carValue  material subRegion region  cityDensity  \n",
       "12628     15830         1        M4      M    190.05160  \n",
       "37730     12675         1       Q45      Q     98.10373  \n",
       "39991     15980         0       O17      O     24.11879  \n",
       "8525      15345         1        U8      U    125.13200  \n",
       "8279      16385         1       L36      L     58.59040  "
      ]
     },
     "execution_count": 34,
     "metadata": {},
     "output_type": "execute_result"
    }
   ],
   "source": [
    "X_train.head()"
   ]
  },
  {
   "cell_type": "code",
   "execution_count": 28,
   "metadata": {},
   "outputs": [
    {
     "data": {
      "text/plain": [
       "31309    zero\n",
       "1236     zero\n",
       "32047    zero\n",
       "6082       p2\n",
       "10927    zero\n",
       "Name: catClaimNumber, dtype: object"
      ]
     },
     "execution_count": 28,
     "metadata": {},
     "output_type": "execute_result"
    }
   ],
   "source": [
    "y_train_claimNumber.head()"
   ]
  },
  {
   "cell_type": "code",
   "execution_count": 35,
   "metadata": {},
   "outputs": [
    {
     "data": {
      "text/plain": [
       "((50000, 12), (10000, 12))"
      ]
     },
     "execution_count": 35,
     "metadata": {},
     "output_type": "execute_result"
    }
   ],
   "source": [
    "X_train.shape, X_val.shape"
   ]
  },
  {
   "attachments": {},
   "cell_type": "markdown",
   "metadata": {},
   "source": [
    "One hot encoding"
   ]
  },
  {
   "cell_type": "code",
   "execution_count": 8,
   "metadata": {},
   "outputs": [],
   "source": [
    "X_train, X_val = pd.get_dummies(X_train), pd.get_dummies(X_val)"
   ]
  },
  {
   "cell_type": "code",
   "execution_count": 36,
   "metadata": {},
   "outputs": [
    {
     "data": {
      "text/plain": [
       "((50000, 503), (10000, 503))"
      ]
     },
     "execution_count": 36,
     "metadata": {},
     "output_type": "execute_result"
    }
   ],
   "source": [
    "\n",
    "X_train.shape, X_val.shape"
   ]
  },
  {
   "cell_type": "code",
   "execution_count": 65,
   "metadata": {},
   "outputs": [
    {
     "data": {
      "text/plain": [
       "((50000, 3), (10000, 3))"
      ]
     },
     "execution_count": 65,
     "metadata": {},
     "output_type": "execute_result"
    }
   ],
   "source": [
    "y_train_claimNumber, y_val_claimNumber = pd.get_dummies(y_train_claimNumber), pd.get_dummies(y_val_claimNumber)\n",
    "y_train_claimNumber.shape, y_val_claimNumber.shape"
   ]
  },
  {
   "attachments": {},
   "cell_type": "markdown",
   "metadata": {},
   "source": [
    "## Naïve Random Forest Classifier PREMIER MODELE"
   ]
  },
  {
   "cell_type": "code",
   "execution_count": 9,
   "metadata": {},
   "outputs": [],
   "source": [
    "naive_rfc_claimNumber = RandomForestClassifier(n_estimators=100, max_depth=5, random_state=SEED)"
   ]
  },
  {
   "cell_type": "code",
   "execution_count": 10,
   "metadata": {},
   "outputs": [],
   "source": [
    "# Fit rfc\n",
    "naive_rfc_claimNumber.fit(X_train, y_train_claimNumber)\n",
    "# predict\n",
    "y_pred_claimNumber = naive_rfc_claimNumber.predict(X_val)"
   ]
  },
  {
   "cell_type": "code",
   "execution_count": 11,
   "metadata": {},
   "outputs": [
    {
     "data": {
      "text/plain": [
       "Text(0.5, 1.0, 'Claim Number Confusion Matrix')"
      ]
     },
     "execution_count": 11,
     "metadata": {},
     "output_type": "execute_result"
    },
    {
     "data": {
      "image/png": "[encoded data removed]",
      "text/plain": [
       "<Figure size 432x288 with 2 Axes>"
      ]
     },
     "metadata": {
      "needs_background": "light"
     },
     "output_type": "display_data"
    }
   ],
   "source": [
    "cm = confusion_matrix(y_val_claimNumber, y_pred_claimNumber)\n",
    "sns.heatmap(cm, annot=True, fmt='d').set_title(\"Claim Number Confusion Matrix\")"
   ]
  },
  {
   "cell_type": "code",
   "execution_count": 58,
   "metadata": {},
   "outputs": [
    {
     "name": "stderr",
     "output_type": "stream",
     "text": [
      "c:\\Users\\Lenovo\\AppData\\Local\\Programs\\Python\\Python39\\lib\\site-packages\\sklearn\\metrics\\_classification.py:1308: UndefinedMetricWarning: Precision and F-score are ill-defined and being set to 0.0 in labels with no predicted samples. Use `zero_division` parameter to control this behavior.\n",
      "  _warn_prf(average, modifier, msg_start, len(result))\n",
      "c:\\Users\\Lenovo\\AppData\\Local\\Programs\\Python\\Python39\\lib\\site-packages\\sklearn\\metrics\\_classification.py:1308: UndefinedMetricWarning: Precision and F-score are ill-defined and being set to 0.0 in labels with no predicted samples. Use `zero_division` parameter to control this behavior.\n",
      "  _warn_prf(average, modifier, msg_start, len(result))\n"
     ]
    },
    {
     "name": "stdout",
     "output_type": "stream",
     "text": [
      "              precision    recall  f1-score   support\n",
      "\n",
      "          p2       0.00      0.00      0.00       248\n",
      "          un       0.00      0.00      0.00      1323\n",
      "        zero       0.84      1.00      0.91      8429\n",
      "\n",
      "    accuracy                           0.84     10000\n",
      "   macro avg       0.28      0.33      0.30     10000\n",
      "weighted avg       0.71      0.84      0.77     10000\n",
      "\n"
     ]
    },
    {
     "name": "stderr",
     "output_type": "stream",
     "text": [
      "c:\\Users\\Lenovo\\AppData\\Local\\Programs\\Python\\Python39\\lib\\site-packages\\sklearn\\metrics\\_classification.py:1308: UndefinedMetricWarning: Precision and F-score are ill-defined and being set to 0.0 in labels with no predicted samples. Use `zero_division` parameter to control this behavior.\n",
      "  _warn_prf(average, modifier, msg_start, len(result))\n"
     ]
    }
   ],
   "source": [
    "print(classification_report(y_val_claimNumber, y_pred_claimNumber))"
   ]
  },
  {
   "attachments": {},
   "cell_type": "markdown",
   "metadata": {},
   "source": [
    "Terrible mdr, il prédit tout le monde sur zero sinistres..."
   ]
  },
  {
   "cell_type": "code",
   "execution_count": 54,
   "metadata": {},
   "outputs": [
    {
     "data": {
      "image/png": "[encoded data removed]",
      "text/plain": [
       "<Figure size 432x288 with 1 Axes>"
      ]
     },
     "metadata": {
      "needs_background": "light"
     },
     "output_type": "display_data"
    }
   ],
   "source": [
    "# Organizing feature names and importances in a DataFrame\n",
    "features_df = pd.DataFrame({'features': naive_rfc_claimNumber.feature_names_in_, 'importances': naive_rfc_claimNumber.feature_importances_ })\n",
    "\n",
    "# Sorting data from highest to lowest\n",
    "features_df_sorted = features_df.sort_values(by='importances', ascending=False)[:15]\n",
    "\n",
    "# Barplot of the result without borders and axis lines\n",
    "g = sns.barplot(data=features_df_sorted, x='importances', y ='features', palette=\"rocket\")\n",
    "sns.despine(bottom = True, left = True)\n",
    "g.set_title('Feature importances')\n",
    "g.set(xlabel=None)\n",
    "g.set(ylabel=None)\n",
    "g.set(xticks=[])\n",
    "for value in g.containers:\n",
    "    g.bar_label(value, padding=2)"
   ]
  },
  {
   "cell_type": "code",
   "execution_count": 12,
   "metadata": {},
   "outputs": [],
   "source": [
    "naive_rfc_claimNumber2 = RandomForestClassifier(n_estimators=1000, max_depth=8, random_state=SEED)\n",
    "# Fit rfc\n",
    "naive_rfc_claimNumber2.fit(X_train, y_train_claimNumber)\n",
    "# predict\n",
    "y_pred_claimNumber2 = naive_rfc_claimNumber2.predict(X_val)"
   ]
  },
  {
   "cell_type": "code",
   "execution_count": 13,
   "metadata": {},
   "outputs": [
    {
     "data": {
      "text/plain": [
       "Text(0.5, 1.0, 'Claim Number Confusion Matrix')"
      ]
     },
     "execution_count": 13,
     "metadata": {},
     "output_type": "execute_result"
    },
    {
     "data": {
      "image/png": "[encoded data removed]",
      "text/plain": [
       "<Figure size 432x288 with 2 Axes>"
      ]
     },
     "metadata": {
      "needs_background": "light"
     },
     "output_type": "display_data"
    }
   ],
   "source": [
    "cm2 = confusion_matrix(y_val_claimNumber, y_pred_claimNumber2)\n",
    "sns.heatmap(cm2, annot=True, fmt='d').set_title(\"Claim Number Confusion Matrix\")"
   ]
  },
  {
   "cell_type": "code",
   "execution_count": 61,
   "metadata": {},
   "outputs": [
    {
     "name": "stderr",
     "output_type": "stream",
     "text": [
      "c:\\Users\\Lenovo\\AppData\\Local\\Programs\\Python\\Python39\\lib\\site-packages\\sklearn\\metrics\\_classification.py:1308: UndefinedMetricWarning: Precision and F-score are ill-defined and being set to 0.0 in labels with no predicted samples. Use `zero_division` parameter to control this behavior.\n",
      "  _warn_prf(average, modifier, msg_start, len(result))\n",
      "c:\\Users\\Lenovo\\AppData\\Local\\Programs\\Python\\Python39\\lib\\site-packages\\sklearn\\metrics\\_classification.py:1308: UndefinedMetricWarning: Precision and F-score are ill-defined and being set to 0.0 in labels with no predicted samples. Use `zero_division` parameter to control this behavior.\n",
      "  _warn_prf(average, modifier, msg_start, len(result))\n"
     ]
    },
    {
     "name": "stdout",
     "output_type": "stream",
     "text": [
      "              precision    recall  f1-score   support\n",
      "\n",
      "          p2       0.00      0.00      0.00       248\n",
      "          un       0.00      0.00      0.00      1323\n",
      "        zero       0.84      1.00      0.91      8429\n",
      "\n",
      "    accuracy                           0.84     10000\n",
      "   macro avg       0.28      0.33      0.30     10000\n",
      "weighted avg       0.71      0.84      0.77     10000\n",
      "\n"
     ]
    },
    {
     "name": "stderr",
     "output_type": "stream",
     "text": [
      "c:\\Users\\Lenovo\\AppData\\Local\\Programs\\Python\\Python39\\lib\\site-packages\\sklearn\\metrics\\_classification.py:1308: UndefinedMetricWarning: Precision and F-score are ill-defined and being set to 0.0 in labels with no predicted samples. Use `zero_division` parameter to control this behavior.\n",
      "  _warn_prf(average, modifier, msg_start, len(result))\n"
     ]
    }
   ],
   "source": [
    "print(classification_report(y_val_claimNumber, y_pred_claimNumber2))"
   ]
  },
  {
   "attachments": {},
   "cell_type": "markdown",
   "metadata": {},
   "source": [
    "Toujours pas mdr, peut être à cause de la class imbalance.  \n",
    "Quid des probas prédites?"
   ]
  },
  {
   "cell_type": "code",
   "execution_count": 14,
   "metadata": {},
   "outputs": [
    {
     "data": {
      "text/plain": [
       "array([[0.04078301, 0.17251499, 0.786702  ],\n",
       "       [0.01299048, 0.10006546, 0.88694406],\n",
       "       [0.02027226, 0.12108301, 0.85864474],\n",
       "       [0.03886529, 0.16544853, 0.79568618],\n",
       "       [0.02718734, 0.13745499, 0.83535766],\n",
       "       [0.01518726, 0.09690182, 0.88791093],\n",
       "       [0.01815094, 0.11774318, 0.86410588],\n",
       "       [0.01881807, 0.11428864, 0.8668933 ],\n",
       "       [0.02677936, 0.14189   , 0.83133064],\n",
       "       [0.01262002, 0.08654045, 0.90083952]])"
      ]
     },
     "execution_count": 14,
     "metadata": {},
     "output_type": "execute_result"
    }
   ],
   "source": [
    "y_pred_proba_claimNumber2 = naive_rfc_claimNumber2.predict_proba(X_val)\n",
    "y_pred_proba_claimNumber2[:10]"
   ]
  },
  {
   "cell_type": "code",
   "execution_count": 17,
   "metadata": {},
   "outputs": [
    {
     "data": {
      "text/plain": [
       "array([0.12521333, 0.22894681, 0.92743552])"
      ]
     },
     "execution_count": 17,
     "metadata": {},
     "output_type": "execute_result"
    }
   ],
   "source": [
    "y_pred_proba_claimNumber2.max(axis=0)"
   ]
  },
  {
   "cell_type": "code",
   "execution_count": 18,
   "metadata": {},
   "outputs": [
    {
     "data": {
      "text/plain": [
       "array([0.0068828 , 0.06568168, 0.66681708])"
      ]
     },
     "execution_count": 18,
     "metadata": {},
     "output_type": "execute_result"
    }
   ],
   "source": [
    "y_pred_proba_claimNumber2.min(axis=0)"
   ]
  },
  {
   "cell_type": "code",
   "execution_count": 19,
   "metadata": {},
   "outputs": [],
   "source": [
    "np.save(\"models/rfc_1000_8_proba_val.npy\", y_pred_proba_claimNumber2)"
   ]
  },
  {
   "attachments": {},
   "cell_type": "markdown",
   "metadata": {},
   "source": [
    "One hot encoding"
   ]
  },
  {
   "attachments": {},
   "cell_type": "markdown",
   "metadata": {},
   "source": [
    "We can leverage a different metric to analyze our predictions: the ROC curve (area under the curve)"
   ]
  },
  {
   "cell_type": "code",
   "execution_count": 67,
   "metadata": {},
   "outputs": [
    {
     "data": {
      "text/plain": [
       "Index(['p2', 'un', 'zero'], dtype='object')"
      ]
     },
     "execution_count": 67,
     "metadata": {},
     "output_type": "execute_result"
    }
   ],
   "source": [
    "y_val_claimNumber.columns"
   ]
  },
  {
   "cell_type": "code",
   "execution_count": 69,
   "metadata": {},
   "outputs": [
    {
     "data": {
      "text/html": [
       "<div>\n",
       "<style scoped>\n",
       "    .dataframe tbody tr th:only-of-type {\n",
       "        vertical-align: middle;\n",
       "    }\n",
       "\n",
       "    .dataframe tbody tr th {\n",
       "        vertical-align: top;\n",
       "    }\n",
       "\n",
       "    .dataframe thead th {\n",
       "        text-align: right;\n",
       "    }\n",
       "</style>\n",
       "<table border=\"1\" class=\"dataframe\">\n",
       "  <thead>\n",
       "    <tr style=\"text-align: right;\">\n",
       "      <th></th>\n",
       "      <th>p2</th>\n",
       "      <th>un</th>\n",
       "      <th>zero</th>\n",
       "    </tr>\n",
       "  </thead>\n",
       "  <tbody>\n",
       "    <tr>\n",
       "      <th>3675</th>\n",
       "      <td>0</td>\n",
       "      <td>0</td>\n",
       "      <td>1</td>\n",
       "    </tr>\n",
       "    <tr>\n",
       "      <th>15450</th>\n",
       "      <td>0</td>\n",
       "      <td>0</td>\n",
       "      <td>1</td>\n",
       "    </tr>\n",
       "    <tr>\n",
       "      <th>20608</th>\n",
       "      <td>0</td>\n",
       "      <td>0</td>\n",
       "      <td>1</td>\n",
       "    </tr>\n",
       "    <tr>\n",
       "      <th>46531</th>\n",
       "      <td>0</td>\n",
       "      <td>1</td>\n",
       "      <td>0</td>\n",
       "    </tr>\n",
       "    <tr>\n",
       "      <th>6749</th>\n",
       "      <td>0</td>\n",
       "      <td>0</td>\n",
       "      <td>1</td>\n",
       "    </tr>\n",
       "  </tbody>\n",
       "</table>\n",
       "</div>"
      ],
      "text/plain": [
       "       p2  un  zero\n",
       "3675    0   0     1\n",
       "15450   0   0     1\n",
       "20608   0   0     1\n",
       "46531   0   1     0\n",
       "6749    0   0     1"
      ]
     },
     "execution_count": 69,
     "metadata": {},
     "output_type": "execute_result"
    }
   ],
   "source": [
    "y_val_claimNumber[:5]"
   ]
  },
  {
   "cell_type": "code",
   "execution_count": 70,
   "metadata": {},
   "outputs": [
    {
     "name": "stdout",
     "output_type": "stream",
     "text": [
      "ROC score for claimNumber = p2: 0.8385922490671891\n",
      "ROC score for claimNumber = one: 0.6850920204943156\n",
      "ROC score for claimNumber = zero: 0.7234420526449297\n"
     ]
    }
   ],
   "source": [
    "from sklearn.metrics import roc_auc_score\n",
    "\n",
    "prob_CN2_p2 = [p[0] for p in y_pred_proba_claimNumber2]\n",
    "prob_CN2_one = [p[1] for p in y_pred_proba_claimNumber2]\n",
    "prob_CN2_zero = [p[2] for p in y_pred_proba_claimNumber2]\n",
    "# Ground Truth in a dataframe\n",
    "y_GT_p2 = np.array(y_val_claimNumber.p2)\n",
    "y_GT_one = np.array(y_val_claimNumber.un)\n",
    "y_GT_zero = np.array(y_val_claimNumber.zero)\n",
    "\n",
    "print(f\"ROC score for claimNumber = p2: {roc_auc_score(y_GT_p2, prob_CN2_p2)}\")\n",
    "print(f\"ROC score for claimNumber = one: {roc_auc_score(y_GT_one, prob_CN2_one)}\")\n",
    "print(f\"ROC score for claimNumber = zero: {roc_auc_score(y_GT_zero, prob_CN2_zero)}\")"
   ]
  },
  {
   "attachments": {},
   "cell_type": "markdown",
   "metadata": {},
   "source": [
    "Pretty decent!"
   ]
  },
  {
   "attachments": {},
   "cell_type": "markdown",
   "metadata": {},
   "source": [
    "## Penalized SVM Classifier"
   ]
  },
  {
   "cell_type": "code",
   "execution_count": 73,
   "metadata": {},
   "outputs": [
    {
     "data": {
      "text/plain": [
       "(50000, 3)"
      ]
     },
     "execution_count": 73,
     "metadata": {},
     "output_type": "execute_result"
    }
   ],
   "source": [
    "y_train_claimNumber.shape"
   ]
  },
  {
   "attachments": {},
   "cell_type": "markdown",
   "metadata": {},
   "source": [
    "pour train un svm, il nous faut un des dimensions (50000, 1) pour y (un vecteur de \"zero\", \"un\", \"p2\").  \n",
    "On récupère ça grâce aux ids"
   ]
  },
  {
   "cell_type": "code",
   "execution_count": 82,
   "metadata": {},
   "outputs": [],
   "source": [
    "y_train_claimNumber_1d = np.array(df_train[df_train.id.isin(X_train_ids.values)].catClaimNumber)\n",
    "y_val_claimNumber_1d = np.array(df_train[df_train.id.isin(X_val_ids.values)].catClaimNumber)"
   ]
  },
  {
   "attachments": {},
   "cell_type": "markdown",
   "metadata": {},
   "source": [
    "!! takes a lot of time to run"
   ]
  },
  {
   "cell_type": "code",
   "execution_count": 83,
   "metadata": {},
   "outputs": [
    {
     "data": {
      "text/plain": [
       "SVC(class_weight={'p2': 100, 'un': 10, 'zero': 1}, probability=True)"
      ]
     },
     "execution_count": 83,
     "metadata": {},
     "output_type": "execute_result"
    }
   ],
   "source": [
    "from sklearn.svm import SVC\n",
    "\n",
    "# on va utiliser arbitrairement les poids suivants : \n",
    "weights = {\"zero\": 1, \"un\": 10, \"p2\": 100}\n",
    "\n",
    "svc_claimNumber = SVC(gamma=\"scale\", probability=True, class_weight=weights)\n",
    "# svc_claimNumber.fit(X_train, y_train_claimNumber_1d)"
   ]
  },
  {
   "cell_type": "code",
   "execution_count": 84,
   "metadata": {},
   "outputs": [],
   "source": [
    "y_pred_proba_claimNumber_svc = svc_claimNumber.predict_proba(X_val)\n",
    "y_pred_claimNumber_svc = svc_claimNumber.predict(X_val)"
   ]
  },
  {
   "cell_type": "code",
   "execution_count": 85,
   "metadata": {},
   "outputs": [
    {
     "data": {
      "text/plain": [
       "array([[0.0345584 , 0.2000015 , 0.7654401 ],\n",
       "       [0.0060379 , 0.05237358, 0.94158853],\n",
       "       [0.00814796, 0.05980445, 0.93204759],\n",
       "       [0.0500708 , 0.21582452, 0.73410468],\n",
       "       [0.02988968, 0.14708236, 0.82302796]])"
      ]
     },
     "execution_count": 85,
     "metadata": {},
     "output_type": "execute_result"
    }
   ],
   "source": [
    "y_pred_proba_claimNumber_svc[:5]"
   ]
  },
  {
   "cell_type": "code",
   "execution_count": 86,
   "metadata": {},
   "outputs": [
    {
     "data": {
      "text/plain": [
       "array(['p2', 'p2', 'p2', 'p2', 'p2'], dtype=object)"
      ]
     },
     "execution_count": 86,
     "metadata": {},
     "output_type": "execute_result"
    }
   ],
   "source": [
    "y_pred_claimNumber_svc[:5]"
   ]
  },
  {
   "cell_type": "code",
   "execution_count": 88,
   "metadata": {},
   "outputs": [
    {
     "data": {
      "text/plain": [
       "Text(0.5, 1.0, 'Claim Number Confusion Matrix svc')"
      ]
     },
     "execution_count": 88,
     "metadata": {},
     "output_type": "execute_result"
    },
    {
     "data": {
      "image/png": "[encoded data removed]",
      "text/plain": [
       "<Figure size 432x288 with 2 Axes>"
      ]
     },
     "metadata": {
      "needs_background": "light"
     },
     "output_type": "display_data"
    }
   ],
   "source": [
    "cm_svm = confusion_matrix(y_val_claimNumber_1d, y_pred_claimNumber_svc)\n",
    "sns.heatmap(cm_svm, annot=True, fmt='d').set_title(\"Claim Number Confusion Matrix svc\")"
   ]
  },
  {
   "cell_type": "code",
   "execution_count": 89,
   "metadata": {},
   "outputs": [
    {
     "name": "stdout",
     "output_type": "stream",
     "text": [
      "              precision    recall  f1-score   support\n",
      "\n",
      "          p2       0.02      1.00      0.05       248\n",
      "          un       0.00      0.00      0.00      1323\n",
      "        zero       0.00      0.00      0.00      8429\n",
      "\n",
      "    accuracy                           0.02     10000\n",
      "   macro avg       0.01      0.33      0.02     10000\n",
      "weighted avg       0.00      0.02      0.00     10000\n",
      "\n"
     ]
    },
    {
     "name": "stderr",
     "output_type": "stream",
     "text": [
      "c:\\Users\\Lenovo\\AppData\\Local\\Programs\\Python\\Python39\\lib\\site-packages\\sklearn\\metrics\\_classification.py:1308: UndefinedMetricWarning: Precision and F-score are ill-defined and being set to 0.0 in labels with no predicted samples. Use `zero_division` parameter to control this behavior.\n",
      "  _warn_prf(average, modifier, msg_start, len(result))\n",
      "c:\\Users\\Lenovo\\AppData\\Local\\Programs\\Python\\Python39\\lib\\site-packages\\sklearn\\metrics\\_classification.py:1308: UndefinedMetricWarning: Precision and F-score are ill-defined and being set to 0.0 in labels with no predicted samples. Use `zero_division` parameter to control this behavior.\n",
      "  _warn_prf(average, modifier, msg_start, len(result))\n",
      "c:\\Users\\Lenovo\\AppData\\Local\\Programs\\Python\\Python39\\lib\\site-packages\\sklearn\\metrics\\_classification.py:1308: UndefinedMetricWarning: Precision and F-score are ill-defined and being set to 0.0 in labels with no predicted samples. Use `zero_division` parameter to control this behavior.\n",
      "  _warn_prf(average, modifier, msg_start, len(result))\n"
     ]
    }
   ],
   "source": [
    "print(classification_report(y_val_claimNumber_1d, y_pred_claimNumber_svc))"
   ]
  },
  {
   "attachments": {},
   "cell_type": "markdown",
   "metadata": {},
   "source": [
    "Bon bah j'ai peut être trop pénalisé mais il prédit unqiuement p2..."
   ]
  },
  {
   "cell_type": "code",
   "execution_count": 90,
   "metadata": {},
   "outputs": [
    {
     "name": "stdout",
     "output_type": "stream",
     "text": [
      "ROC score for claimNumber = p2: 0.8070813431157216\n",
      "ROC score for claimNumber = one: 0.6636415799721089\n",
      "ROC score for claimNumber = zero: 0.6999203063534634\n"
     ]
    }
   ],
   "source": [
    "prob_svc_p2 = [p[0] for p in y_pred_proba_claimNumber_svc]\n",
    "prob_svc_one = [p[1] for p in y_pred_proba_claimNumber_svc]\n",
    "prob_svc_zero = [p[2] for p in y_pred_proba_claimNumber_svc]\n",
    "\n",
    "print(f\"ROC score for claimNumber = p2: {roc_auc_score(y_GT_p2, prob_svc_p2)}\")\n",
    "print(f\"ROC score for claimNumber = one: {roc_auc_score(y_GT_one, prob_svc_one)}\")\n",
    "print(f\"ROC score for claimNumber = zero: {roc_auc_score(y_GT_zero, prob_svc_zero)}\")"
   ]
  },
  {
   "attachments": {},
   "cell_type": "markdown",
   "metadata": {},
   "source": [
    "Le modèle est moins performant que le random forest..."
   ]
  },
  {
   "attachments": {},
   "cell_type": "markdown",
   "metadata": {},
   "source": [
    "## XGBoost"
   ]
  },
  {
   "cell_type": "code",
   "execution_count": null,
   "metadata": {},
   "outputs": [],
   "source": [
    "# create xgboost model for claimNumber and fit it to the training data\n",
    "\n",
    "from xgboost import XGBClassifier\n",
    "\n",
    "xgb_claimNumber = XGBClassifier(random_state=SEED)\n",
    "param_grid = \n",
    "grid_search = GridSearchCV(xgb_claimNumber, param_grid, cv=3, verbose=1)\n",
    "xgb_claimNumber.fit(X_train, y_train_claimNumber_1d)\n",
    "\n"
   ]
  }
 ],
 "metadata": {
  "kernelspec": {
   "display_name": "Python 3",
   "language": "python",
   "name": "python3"
  },
  "language_info": {
   "codemirror_mode": {
    "name": "ipython",
    "version": 3
   },
   "file_extension": ".py",
   "mimetype": "text/x-python",
   "name": "python",
   "nbconvert_exporter": "python",
   "pygments_lexer": "ipython3",
   "version": "3.9.7 (tags/v3.9.7:1016ef3, Aug 30 2021, 20:19:38) [MSC v.1929 64 bit (AMD64)]"
  },
  "orig_nbformat": 4,
  "vscode": {
   "interpreter": {
    "hash": "8f8cf99212f81ad0c4765861267244807ee1c18364846cdce387b28994a977ba"
   }
  }
 },
 "nbformat": 4,
 "nbformat_minor": 2
}
